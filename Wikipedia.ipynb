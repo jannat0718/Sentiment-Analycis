{
 "cells": [
  {
   "cell_type": "markdown",
   "metadata": {},
   "source": [
    "# Wikipedia Toxicity"
   ]
  },
  {
   "cell_type": "markdown",
   "metadata": {},
   "source": [
    "**DESCRIPTION**  \n",
    "Using NLP and machine learning, make a model to identify toxic comments from the Talk edit pages on Wikipedia. Help identify the words that make a comment toxic.\n",
    "\n",
    "**Problem Statement:** \n",
    "Wikipedia is the world’s largest and most popular reference work on the internet with about 500 million unique visitors per month. It also has millions of contributors who can make edits to pages. The Talk edit pages, the key community interaction forum where the contributing community interacts or discusses or debates about the changes pertaining to a particular topic. \n",
    "Wikipedia continuously strives to help online discussion become more productive and respectful. You are a data scientist at Wikipedia who will help Wikipedia to build a predictive model that identifies toxic comments in the discussion and marks them for cleanup by using NLP and machine learning. Post that, help identify the top terms from the toxic comments. \n",
    "\n",
    "**Domain: Internet**\n",
    "Analysis to be done: Build a text classification model using NLP and machine learning that detects toxic comments.\n",
    "\n",
    "**Content:** \n",
    "id: identifier number of the comment\n",
    "comment_text: the text in the comment\n",
    "toxic: 0 (non-toxic) /1 (toxic)\n",
    "\n",
    "**Steps to perform:**\n",
    "Cleanup the text data, using TF-IDF convert to vector space representation, use Support Vector Machines to detect toxic comments. Finally, get the list of top 15 toxic terms from the comments identified by the model.\n"
   ]
  },
  {
   "cell_type": "markdown",
   "metadata": {},
   "source": [
    "**Task 1**: Load the data using read_csv function from pandas package\n"
   ]
  },
  {
   "cell_type": "code",
   "execution_count": 1,
   "metadata": {},
   "outputs": [
    {
     "data": {
      "text/html": [
       "<div>\n",
       "<style scoped>\n",
       "    .dataframe tbody tr th:only-of-type {\n",
       "        vertical-align: middle;\n",
       "    }\n",
       "\n",
       "    .dataframe tbody tr th {\n",
       "        vertical-align: top;\n",
       "    }\n",
       "\n",
       "    .dataframe thead th {\n",
       "        text-align: right;\n",
       "    }\n",
       "</style>\n",
       "<table border=\"1\" class=\"dataframe\">\n",
       "  <thead>\n",
       "    <tr style=\"text-align: right;\">\n",
       "      <th></th>\n",
       "      <th>id</th>\n",
       "      <th>comment_text</th>\n",
       "      <th>toxic</th>\n",
       "    </tr>\n",
       "  </thead>\n",
       "  <tbody>\n",
       "    <tr>\n",
       "      <th>0</th>\n",
       "      <td>e617e2489abe9bca</td>\n",
       "      <td>\"\\r\\n\\r\\n A barnstar for you! \\r\\n\\r\\n  The De...</td>\n",
       "      <td>0</td>\n",
       "    </tr>\n",
       "    <tr>\n",
       "      <th>1</th>\n",
       "      <td>9250cf637294e09d</td>\n",
       "      <td>\"\\r\\n\\r\\nThis seems unbalanced.  whatever I ha...</td>\n",
       "      <td>0</td>\n",
       "    </tr>\n",
       "    <tr>\n",
       "      <th>2</th>\n",
       "      <td>ce1aa4592d5240ca</td>\n",
       "      <td>Marya Dzmitruk was born in Minsk, Belarus in M...</td>\n",
       "      <td>0</td>\n",
       "    </tr>\n",
       "    <tr>\n",
       "      <th>3</th>\n",
       "      <td>48105766ff7f075b</td>\n",
       "      <td>\"\\r\\n\\r\\nTalkback\\r\\n\\r\\n Dear Celestia...  \"</td>\n",
       "      <td>0</td>\n",
       "    </tr>\n",
       "    <tr>\n",
       "      <th>4</th>\n",
       "      <td>0543d4f82e5470b6</td>\n",
       "      <td>New Categories \\r\\n\\r\\nI honestly think that w...</td>\n",
       "      <td>0</td>\n",
       "    </tr>\n",
       "  </tbody>\n",
       "</table>\n",
       "</div>"
      ],
      "text/plain": [
       "                 id                                       comment_text  toxic\n",
       "0  e617e2489abe9bca  \"\\r\\n\\r\\n A barnstar for you! \\r\\n\\r\\n  The De...      0\n",
       "1  9250cf637294e09d  \"\\r\\n\\r\\nThis seems unbalanced.  whatever I ha...      0\n",
       "2  ce1aa4592d5240ca  Marya Dzmitruk was born in Minsk, Belarus in M...      0\n",
       "3  48105766ff7f075b      \"\\r\\n\\r\\nTalkback\\r\\n\\r\\n Dear Celestia...  \"      0\n",
       "4  0543d4f82e5470b6  New Categories \\r\\n\\r\\nI honestly think that w...      0"
      ]
     },
     "execution_count": 1,
     "metadata": {},
     "output_type": "execute_result"
    }
   ],
   "source": [
    "##Load data set\n",
    "import pandas as pd, numpy as np\n",
    "Data_ori = pd.read_csv(\"Talk_edit_pages_data.csv\")\n",
    "Data_ori.head()"
   ]
  },
  {
   "cell_type": "code",
   "execution_count": 2,
   "metadata": {},
   "outputs": [
    {
     "data": {
      "text/html": [
       "<div>\n",
       "<style scoped>\n",
       "    .dataframe tbody tr th:only-of-type {\n",
       "        vertical-align: middle;\n",
       "    }\n",
       "\n",
       "    .dataframe tbody tr th {\n",
       "        vertical-align: top;\n",
       "    }\n",
       "\n",
       "    .dataframe thead th {\n",
       "        text-align: right;\n",
       "    }\n",
       "</style>\n",
       "<table border=\"1\" class=\"dataframe\">\n",
       "  <thead>\n",
       "    <tr style=\"text-align: right;\">\n",
       "      <th></th>\n",
       "      <th>toxic</th>\n",
       "    </tr>\n",
       "  </thead>\n",
       "  <tbody>\n",
       "    <tr>\n",
       "      <th>count</th>\n",
       "      <td>5000.000000</td>\n",
       "    </tr>\n",
       "    <tr>\n",
       "      <th>mean</th>\n",
       "      <td>0.087400</td>\n",
       "    </tr>\n",
       "    <tr>\n",
       "      <th>std</th>\n",
       "      <td>0.282449</td>\n",
       "    </tr>\n",
       "    <tr>\n",
       "      <th>min</th>\n",
       "      <td>0.000000</td>\n",
       "    </tr>\n",
       "    <tr>\n",
       "      <th>25%</th>\n",
       "      <td>0.000000</td>\n",
       "    </tr>\n",
       "    <tr>\n",
       "      <th>50%</th>\n",
       "      <td>0.000000</td>\n",
       "    </tr>\n",
       "    <tr>\n",
       "      <th>75%</th>\n",
       "      <td>0.000000</td>\n",
       "    </tr>\n",
       "    <tr>\n",
       "      <th>max</th>\n",
       "      <td>1.000000</td>\n",
       "    </tr>\n",
       "  </tbody>\n",
       "</table>\n",
       "</div>"
      ],
      "text/plain": [
       "             toxic\n",
       "count  5000.000000\n",
       "mean      0.087400\n",
       "std       0.282449\n",
       "min       0.000000\n",
       "25%       0.000000\n",
       "50%       0.000000\n",
       "75%       0.000000\n",
       "max       1.000000"
      ]
     },
     "execution_count": 2,
     "metadata": {},
     "output_type": "execute_result"
    }
   ],
   "source": [
    "Data_ori.describe()"
   ]
  },
  {
   "cell_type": "markdown",
   "metadata": {},
   "source": [
    "**Task 2:** Get the comments into a list, for easy text cleanup and manipulation"
   ]
  },
  {
   "cell_type": "code",
   "execution_count": 3,
   "metadata": {},
   "outputs": [
    {
     "data": {
      "text/plain": [
       "array(['\"\\r\\n\\r\\nThis seems unbalanced.  whatever I have said about Mathsci, he has said far more extreme and unpleasant things about me (not to mention others), and with much greater frequency.  I\\'m more than happy to reign myself in, if that\\'s what you\\'d like (ruth be told, I was just trying to get Mathsci to pay attention and stop being uncivil).  I would expect you to issue the same request to Mathsci.  \\r\\n\\r\\n If this is intentionally unbalanced (for whatever reason), please let me know, and I will voluntarily close this account and move on to other things.  I like wikipedia, and I have a lot to contribute in my own way, but there is no point contributing to the project if some editors have administrative leave to be aggressively rude.  I\\'m a good editor, and I don\\'t really deserve to have people riding my ass every time I try to do certain things.  I\\'ll happily leave it in the hands of the drama-prone, if that\\'s what you think is best.  Ludwigs2 \"'],\n",
       "      dtype=object)"
      ]
     },
     "execution_count": 3,
     "metadata": {},
     "output_type": "execute_result"
    }
   ],
   "source": [
    "## Converting into list\n",
    "comments_list = Data_ori.comment_text.values\n",
    "comments_list[1:2]"
   ]
  },
  {
   "cell_type": "markdown",
   "metadata": {},
   "source": [
    "**Task 3:Cleanup**\n",
    "1.\tUsing regular expressions, remove IP addresses\n",
    "2.\tUsing regular expressions, remove URLs\n",
    "3.\tNormalize the casing\n",
    "4.\tTokenize using word_tokenize from NLTK\n",
    "5.\tRemove stop words\n",
    "6.\tRemove punctuation\n",
    "7.\tDefine a function to perform all these steps, you’ll use this later on the actual test set\n"
   ]
  },
  {
   "cell_type": "code",
   "execution_count": 4,
   "metadata": {},
   "outputs": [],
   "source": [
    "###Regular expresion\n",
    "import re"
   ]
  },
  {
   "cell_type": "code",
   "execution_count": 5,
   "metadata": {},
   "outputs": [
    {
     "data": {
      "text/plain": [
       "['\"\\r\\n\\r\\nThis seems unbalanced.  whatever I have said about Mathsci, he has said far more extreme and unpleasant things about me (not to mention others), and with much greater frequency.  I\\'m more than happy to reign myself in, if that\\'s what you\\'d like (ruth be told, I was just trying to get Mathsci to pay attention and stop being uncivil).  I would expect you to issue the same request to Mathsci.  \\r\\n\\r\\n If this is intentionally unbalanced (for whatever reason), please let me know, and I will voluntarily close this account and move on to other things.  I like wikipedia, and I have a lot to contribute in my own way, but there is no point contributing to the project if some editors have administrative leave to be aggressively rude.  I\\'m a good editor, and I don\\'t really deserve to have people riding my ass every time I try to do certain things.  I\\'ll happily leave it in the hands of the drama-prone, if that\\'s what you think is best.  Ludwigs2 \"']"
      ]
     },
     "execution_count": 5,
     "metadata": {},
     "output_type": "execute_result"
    }
   ],
   "source": [
    "###Remove Ip adress\n",
    "No_IP=[re.sub('[\\d+\\.{3}]\\d+',\"\",txt) for txt in comments_list]\n",
    "No_IP[1:2]"
   ]
  },
  {
   "cell_type": "code",
   "execution_count": 6,
   "metadata": {},
   "outputs": [
    {
     "data": {
      "text/plain": [
       "['\"\\r\\n\\r\\nthis seems unbalanced.  whatever i have said about mathsci, he has said far more extreme and unpleasant things about me (not to mention others), and with much greater frequency.  i\\'m more than happy to reign myself in, if that\\'s what you\\'d like (ruth be told, i was just trying to get mathsci to pay attention and stop being uncivil).  i would expect you to issue the same request to mathsci.  \\r\\n\\r\\n if this is intentionally unbalanced (for whatever reason), please let me know, and i will voluntarily close this account and move on to other things.  i like wikipedia, and i have a lot to contribute in my own way, but there is no point contributing to the project if some editors have administrative leave to be aggressively rude.  i\\'m a good editor, and i don\\'t really deserve to have people riding my ass every time i try to do certain things.  i\\'ll happily leave it in the hands of the drama-prone, if that\\'s what you think is best.  ludwigs2 \"']"
      ]
     },
     "execution_count": 6,
     "metadata": {},
     "output_type": "execute_result"
    }
   ],
   "source": [
    "##Normalize case\n",
    "lower_case = [txt.lower() for txt in No_IP]\n",
    "lower_case[1:2]"
   ]
  },
  {
   "cell_type": "code",
   "execution_count": 7,
   "metadata": {},
   "outputs": [
    {
     "data": {
      "text/plain": [
       "['\"\\r\\n\\r\\nthis seems unbalanced.  whatever i have said about mathsci, he has said far more extreme and unpleasant things about me (not to mention others), and with much greater frequency.  i\\'m more than happy to reign myself in, if that\\'s what you\\'d like (ruth be told, i was just trying to get mathsci to pay attention and stop being uncivil).  i would expect you to issue the same request to mathsci.  \\r\\n\\r\\n if this is intentionally unbalanced (for whatever reason), please let me know, and i will voluntarily close this account and move on to other things.  i like wikipedia, and i have a lot to contribute in my own way, but there is no point contributing to the project if some editors have administrative leave to be aggressively rude.  i\\'m a good editor, and i don\\'t really deserve to have people riding my ass every time i try to do certain things.  i\\'ll happily leave it in the hands of the drama-prone, if that\\'s what you think is best.  ludwigs2 \"']"
      ]
     },
     "execution_count": 7,
     "metadata": {},
     "output_type": "execute_result"
    }
   ],
   "source": [
    "###Remove URL\n",
    "NO_URL = [re.sub(\"\\w+://\\S+\",\"\", txt) for txt in lower_case]\n",
    "NO_URL[1:2]"
   ]
  },
  {
   "cell_type": "code",
   "execution_count": 8,
   "metadata": {},
   "outputs": [
    {
     "name": "stdout",
     "output_type": "stream",
     "text": [
      "['``', 'a', 'barnstar', 'for', 'you', '!', 'the', 'defender', 'of', 'the', 'wiki', 'barnstar', 'i', 'like', 'your', 'edit', 'on', 'the', 'kayastha', 'page', '.', 'lets', 'form', 'a', 'solidarity', 'group', 'against', 'those', 'who', 'malign', 'the', 'article', 'and', 'its', 'subject', 'matter', '.', 'i', 'propose', 'the', 'folloing', 'name', 'for', 'the', 'group', '.', 'united', 'intellectuals', \"'\", 'front', 'of', 'kayastha', 'ethinicty', 'against', 'racist', 'or', 'castist', 'abuse', '(', 'uifkearca', ')', '``']\n"
     ]
    }
   ],
   "source": [
    "##Tokenize\n",
    "from nltk.tokenize import word_tokenize\n",
    "word_tokens = [word_tokenize(sent) for sent in NO_URL]\n",
    "print(word_tokens[0])"
   ]
  },
  {
   "cell_type": "code",
   "execution_count": 9,
   "metadata": {},
   "outputs": [],
   "source": [
    "## Import stopwords\n",
    "from nltk.corpus import stopwords\n",
    "stop_nltk = stopwords.words(\"english\")"
   ]
  },
  {
   "cell_type": "code",
   "execution_count": 10,
   "metadata": {},
   "outputs": [],
   "source": [
    "## Punctuations\n",
    "from string import punctuation\n",
    "stop_punct = list(punctuation)"
   ]
  },
  {
   "cell_type": "markdown",
   "metadata": {},
   "source": [
    "**Task 4:** Using a counter, find the top terms in the data. \n",
    "   1. Can any of these be considered contextual stop words? \n",
    "   2.\tWords like “Wikipedia”, “page”, “edit” are examples of contextual stop words\n",
    "   3.\tIf yes, drop these from the data\n"
   ]
  },
  {
   "cell_type": "code",
   "execution_count": 11,
   "metadata": {},
   "outputs": [],
   "source": [
    "###Contexual stop words\n",
    "contextual_stopwords = [\"article\", \"page\", \"wikipedia\", \"talk\", \"articles\", \"pages\"]"
   ]
  },
  {
   "cell_type": "code",
   "execution_count": 12,
   "metadata": {},
   "outputs": [],
   "source": [
    "##Create stopwords formula\n",
    "stopword_formula = stop_nltk+stop_punct + contextual_stopwords + [\"...\", \"``\",\"''\", \"====\", \"must\"]"
   ]
  },
  {
   "cell_type": "code",
   "execution_count": 13,
   "metadata": {},
   "outputs": [
    {
     "name": "stdout",
     "output_type": "stream",
     "text": [
      "['barnstar', 'defender', 'wiki', 'barnstar', 'like', 'edit', 'kayastha', 'lets', 'form', 'solidarity', 'group', 'malign', 'subject', 'matter', 'propose', 'folloing', 'name', 'group', 'united', 'intellectuals', 'front', 'kayastha', 'ethinicty', 'racist', 'castist', 'abuse', 'uifkearca']\n"
     ]
    }
   ],
   "source": [
    "##Remove Stopwords\n",
    "def del_stop(sent):\n",
    "    return [term for term in sent if term not in stopword_formula]\n",
    "DATA_clean = [del_stop(sent) for sent in word_tokens]\n",
    "print(DATA_clean[0])\n"
   ]
  },
  {
   "cell_type": "code",
   "execution_count": 14,
   "metadata": {},
   "outputs": [
    {
     "data": {
      "text/plain": [
       "[(\"'s\", 1991),\n",
       " (\"n't\", 1795),\n",
       " ('please', 1039),\n",
       " ('would', 1007),\n",
       " ('ass', 986),\n",
       " ('fuck', 906),\n",
       " ('one', 861),\n",
       " ('like', 836),\n",
       " ('also', 657),\n",
       " ('see', 631),\n",
       " ('think', 630),\n",
       " ('know', 594),\n",
       " ('edit', 560),\n",
       " ('people', 553),\n",
       " ('use', 549),\n",
       " (\"'m\", 538),\n",
       " ('name', 536),\n",
       " ('may', 532),\n",
       " ('time', 482),\n",
       " ('thanks', 424)]"
      ]
     },
     "execution_count": 14,
     "metadata": {},
     "output_type": "execute_result"
    }
   ],
   "source": [
    "## Top term in data using counter function\n",
    "from collections import Counter  \n",
    "#split_it =list(DATA_clean) \n",
    "term_list = []\n",
    "for sent in DATA_clean:\n",
    "    term_list.extend(sent)\n",
    "Count = Counter(term_list) \n",
    "Count.most_common(20) "
   ]
  },
  {
   "cell_type": "markdown",
   "metadata": {},
   "source": [
    "**Task 5:** Separate into train and test sets\n",
    "   1.\tUse train-test method to divide your data into 2 sets: train and test\n",
    "   2.\tUse a 70-30 split\n"
   ]
  },
  {
   "cell_type": "code",
   "execution_count": 15,
   "metadata": {},
   "outputs": [
    {
     "data": {
      "text/plain": [
       "['barnstar defender wiki barnstar like edit kayastha lets form solidarity group malign subject matter propose folloing name group united intellectuals front kayastha ethinicty racist castist abuse uifkearca',\n",
       " \"seems unbalanced whatever said mathsci said far extreme unpleasant things mention others much greater frequency 'm happy reign 's 'd like ruth told trying get mathsci pay attention stop uncivil would expect issue request mathsci intentionally unbalanced whatever reason please let know voluntarily close account move things like lot contribute way point contributing project editors administrative leave aggressively rude 'm good editor n't really deserve people riding ass every time try certain things 'll happily leave hands drama-prone 's think best ludwigs2\"]"
      ]
     },
     "execution_count": 15,
     "metadata": {},
     "output_type": "execute_result"
    }
   ],
   "source": [
    "# X variable of Linear regression formula\n",
    "DATA_clean = [\" \".join(sent) for sent in DATA_clean]\n",
    "DATA_clean[:2]"
   ]
  },
  {
   "cell_type": "code",
   "execution_count": 16,
   "metadata": {},
   "outputs": [
    {
     "data": {
      "text/plain": [
       "0       0\n",
       "1       0\n",
       "2       0\n",
       "3       0\n",
       "4       0\n",
       "       ..\n",
       "4995    0\n",
       "4996    1\n",
       "4997    0\n",
       "4998    0\n",
       "4999    0\n",
       "Name: toxic, Length: 5000, dtype: int64"
      ]
     },
     "execution_count": 16,
     "metadata": {},
     "output_type": "execute_result"
    }
   ],
   "source": [
    "# Y variable of Linear regression formula\n",
    "Toxicity=Data_ori.toxic\n",
    "Toxicity "
   ]
  },
  {
   "cell_type": "code",
   "execution_count": 17,
   "metadata": {},
   "outputs": [
    {
     "data": {
      "text/plain": [
       "5000"
      ]
     },
     "execution_count": 17,
     "metadata": {},
     "output_type": "execute_result"
    }
   ],
   "source": [
    "len(DATA_clean)"
   ]
  },
  {
   "cell_type": "code",
   "execution_count": 18,
   "metadata": {},
   "outputs": [],
   "source": [
    "###Split Train and Test set[70:30]\n",
    "from sklearn.model_selection import train_test_split\n",
    "X_train, X_test,Y_train,Y_test = train_test_split(DATA_clean,Toxicity, test_size = 0.30)"
   ]
  },
  {
   "cell_type": "code",
   "execution_count": 19,
   "metadata": {},
   "outputs": [
    {
     "data": {
      "text/plain": [
       "(3500, 1500, (3500,), 1500)"
      ]
     },
     "execution_count": 19,
     "metadata": {},
     "output_type": "execute_result"
    }
   ],
   "source": [
    "len(X_train), len(X_test),Y_train.shape,len(Y_test)\n"
   ]
  },
  {
   "cell_type": "markdown",
   "metadata": {},
   "source": [
    "**Task 6:**\tUse TF-IDF values for the terms as feature to get into a vector space model\n",
    "   1.\tImport TF-IDF vectorizer from sklearn\n",
    "   2.\tInstantiate with a maximum of 4000 terms in your vocabulary\n",
    "   3.\tFit and apply on the train set\n",
    "   4.\tApply on the test set\n"
   ]
  },
  {
   "cell_type": "code",
   "execution_count": 20,
   "metadata": {},
   "outputs": [
    {
     "data": {
      "text/plain": [
       "((3500, 4000), (1500, 4000))"
      ]
     },
     "execution_count": 20,
     "metadata": {},
     "output_type": "execute_result"
    }
   ],
   "source": [
    "##TF-IDF Vectorizer\n",
    "from sklearn.feature_extraction.text import TfidfVectorizer\n",
    "vectorizer = TfidfVectorizer(max_features = 4000)\n",
    "X_train_vec = vectorizer.fit_transform(X_train)\n",
    "X_test_vec = vectorizer.transform(X_test)\n",
    "X_train_vec.shape, X_test_vec.shape\n"
   ]
  },
  {
   "cell_type": "code",
   "execution_count": 21,
   "metadata": {},
   "outputs": [
    {
     "name": "stdout",
     "output_type": "stream",
     "text": [
      "[[0. 0. 0. ... 0. 0. 0.]\n",
      " [0. 0. 0. ... 0. 0. 0.]\n",
      " [0. 0. 0. ... 0. 0. 0.]\n",
      " ...\n",
      " [0. 0. 0. ... 0. 0. 0.]\n",
      " [0. 0. 0. ... 0. 0. 0.]\n",
      " [0. 0. 0. ... 0. 0. 0.]]\n"
     ]
    }
   ],
   "source": [
    "print(X_test_vec.todense())"
   ]
  },
  {
   "cell_type": "markdown",
   "metadata": {},
   "source": [
    "**Task 7:** Model building: Support Vector Machine\n",
    "  1.\tInstantiate SVC from sklearn with a linear kernel\n",
    "  2.\tFit on the train data\n",
    "  3.\tMake predictions for the train and the test set\n"
   ]
  },
  {
   "cell_type": "code",
   "execution_count": 22,
   "metadata": {},
   "outputs": [
    {
     "name": "stdout",
     "output_type": "stream",
     "text": [
      "Object `svm.SVC` not found.\n"
     ]
    }
   ],
   "source": [
    "?svm.SVC"
   ]
  },
  {
   "cell_type": "code",
   "execution_count": 23,
   "metadata": {},
   "outputs": [
    {
     "data": {
      "text/plain": [
       "SVC(kernel='linear')"
      ]
     },
     "execution_count": 23,
     "metadata": {},
     "output_type": "execute_result"
    }
   ],
   "source": [
    "## Linear Support Vector Classifier(SVC) model building\n",
    "from sklearn import svm\n",
    "classifier_linear = svm.SVC(kernel='linear')\n",
    "classifier_linear.fit(X_train_vec,Y_train)"
   ]
  },
  {
   "cell_type": "code",
   "execution_count": 24,
   "metadata": {},
   "outputs": [
    {
     "data": {
      "text/plain": [
       "(3500,)"
      ]
     },
     "execution_count": 24,
     "metadata": {},
     "output_type": "execute_result"
    }
   ],
   "source": [
    "#Train data prediction\n",
    "Y_train_pred = classifier_linear.predict(X_train_vec)\n",
    "Y_train_pred.shape"
   ]
  },
  {
   "cell_type": "code",
   "execution_count": 25,
   "metadata": {},
   "outputs": [
    {
     "data": {
      "text/plain": [
       "array([1, 0, 0, ..., 0, 0, 0], dtype=int64)"
      ]
     },
     "execution_count": 25,
     "metadata": {},
     "output_type": "execute_result"
    }
   ],
   "source": [
    "##Prediction on Test data\n",
    "Y_test_pred = classifier_linear.predict(X_test_vec)\n",
    "Y_test_pred"
   ]
  },
  {
   "cell_type": "markdown",
   "metadata": {},
   "source": [
    "**Task 8:** Model evaluation: Accuracy, recall, and f1_score\n",
    "  1.\tReport the accuracy on the train set\n",
    "  2.\tReport the recall on the train set:decent, high, low?\n",
    "  3.\tGet the f1_score on the train set\n"
   ]
  },
  {
   "cell_type": "code",
   "execution_count": 26,
   "metadata": {},
   "outputs": [],
   "source": [
    "##Evaluation\n",
    "from sklearn.metrics import classification_report,accuracy_score,confusion_matrix\n"
   ]
  },
  {
   "cell_type": "code",
   "execution_count": 27,
   "metadata": {
    "scrolled": true
   },
   "outputs": [
    {
     "name": "stdout",
     "output_type": "stream",
     "text": [
      "97.17142857142858\n",
      "[[3179    1]\n",
      " [  98  222]]\n",
      "              precision    recall  f1-score   support\n",
      "\n",
      "           0       0.97      1.00      0.98      3180\n",
      "           1       1.00      0.69      0.82       320\n",
      "\n",
      "    accuracy                           0.97      3500\n",
      "   macro avg       0.98      0.85      0.90      3500\n",
      "weighted avg       0.97      0.97      0.97      3500\n",
      "\n"
     ]
    }
   ],
   "source": [
    "\n",
    "print(accuracy_score(Y_train, Y_train_pred)*100)\n",
    "print(confusion_matrix(Y_train, Y_train_pred))\n",
    "print(classification_report(Y_train, Y_train_pred))"
   ]
  },
  {
   "cell_type": "markdown",
   "metadata": {},
   "source": [
    "Need to adjust the class imbalance, as the model seems to focus on the 0s"
   ]
  },
  {
   "cell_type": "code",
   "execution_count": 28,
   "metadata": {},
   "outputs": [],
   "source": [
    "#print(accuracy_score(Y_test, Y_test_pred)*100)\n",
    "#print(confusion_matrix(Y_test, Y_test_pred))\n",
    "#print(classification_report(Y_test, Y_test_pred))"
   ]
  },
  {
   "cell_type": "markdown",
   "metadata": {},
   "source": [
    "**Task 9:** Looks like you need to adjust  the class imbalance, as the model seems to focus on the 0s\n",
    "  1.\tAdjust the appropriate parameter in the SVC module\n",
    "\n",
    "**Task 10:** Train again with the adjustment and evaluate\n",
    "  1.\tTrain the model on the train set\n",
    "  2.\tEvaluate the predictions on the validation set: accuracy, recall, f1_score\n"
   ]
  },
  {
   "cell_type": "code",
   "execution_count": 29,
   "metadata": {},
   "outputs": [
    {
     "data": {
      "text/plain": [
       "SVC(class_weight='balanced', kernel='linear')"
      ]
     },
     "execution_count": 29,
     "metadata": {},
     "output_type": "execute_result"
    }
   ],
   "source": [
    "##Adjust class weight \n",
    "classifier_linear = svm.SVC(kernel='linear',class_weight=\"balanced\")\n",
    "classifier_linear.fit(X_train_vec,Y_train)"
   ]
  },
  {
   "cell_type": "code",
   "execution_count": 30,
   "metadata": {},
   "outputs": [
    {
     "data": {
      "text/plain": [
       "array([0, 0, 0, ..., 0, 0, 0], dtype=int64)"
      ]
     },
     "execution_count": 30,
     "metadata": {},
     "output_type": "execute_result"
    }
   ],
   "source": [
    "##Prediction\n",
    "Y_train_preds_adjusted = classifier_linear.predict(X_train_vec)\n",
    "Y_train_preds_adjusted"
   ]
  },
  {
   "cell_type": "code",
   "execution_count": 31,
   "metadata": {},
   "outputs": [
    {
     "data": {
      "text/plain": [
       "array([1, 0, 0, ..., 0, 0, 0], dtype=int64)"
      ]
     },
     "execution_count": 31,
     "metadata": {},
     "output_type": "execute_result"
    }
   ],
   "source": [
    "Y_test_pred_adjusted = classifier_linear.predict(X_test_vec)\n",
    "Y_test_pred_adjusted"
   ]
  },
  {
   "cell_type": "code",
   "execution_count": 32,
   "metadata": {},
   "outputs": [
    {
     "name": "stdout",
     "output_type": "stream",
     "text": [
      "98.5142857142857\n",
      "              precision    recall  f1-score   support\n",
      "\n",
      "           0       1.00      0.99      0.99      3180\n",
      "           1       0.87      0.98      0.92       320\n",
      "\n",
      "    accuracy                           0.99      3500\n",
      "   macro avg       0.93      0.98      0.96      3500\n",
      "weighted avg       0.99      0.99      0.99      3500\n",
      "\n"
     ]
    }
   ],
   "source": [
    "##RE-Evaluation\n",
    "print(accuracy_score(Y_train, Y_train_preds_adjusted)*100)\n",
    "print(classification_report(Y_train, Y_train_preds_adjusted))"
   ]
  },
  {
   "cell_type": "markdown",
   "metadata": {},
   "source": [
    "Improved balance in the model between toxic and non-toxic texts."
   ]
  },
  {
   "cell_type": "code",
   "execution_count": 33,
   "metadata": {},
   "outputs": [],
   "source": [
    "#print(accuracy_score(Y_test, Y_test_pred_adjusted)*100)\n",
    "#print(classification_report(Y_test, Y_test_pred_adjusted))"
   ]
  },
  {
   "cell_type": "markdown",
   "metadata": {},
   "source": [
    "**Task 11:** Hyperparameter tuning\n",
    " 1.\tImport GridSearch and StratifiedKFold (because of class imbalance)\n",
    " 2.\tProvide the parameter grid to choose for ‘C’\n",
    " 3.\tUse a balanced class weight while instantiating the Support Vector Classifier\n",
    "\n",
    "**Task 12:** Find the parameters with the best recall in cross validation\n",
    "  1.\tChoose ‘recall’ as the metric for scoring\n",
    "  2.\tChoose stratified 5 fold cross validation scheme\n",
    "  3.\tFit on the train set\n"
   ]
  },
  {
   "cell_type": "code",
   "execution_count": 34,
   "metadata": {},
   "outputs": [],
   "source": [
    "##Hyper-parameter tuning\n",
    "from sklearn.model_selection import GridSearchCV, StratifiedKFold"
   ]
  },
  {
   "cell_type": "code",
   "execution_count": 35,
   "metadata": {},
   "outputs": [
    {
     "data": {
      "text/plain": [
       "{'C': [0.1, 1, 10, 100, 1000, 10000, 100000]}"
      ]
     },
     "execution_count": 35,
     "metadata": {},
     "output_type": "execute_result"
    }
   ],
   "source": [
    "# Create Random parameter grid \n",
    "param_grid = {\n",
    "    'C': [.1, 1, 10,100, 1000,10000,100000]\n",
    "}\n",
    "param_grid"
   ]
  },
  {
   "cell_type": "code",
   "execution_count": 36,
   "metadata": {},
   "outputs": [],
   "source": [
    "?GridSearchCV"
   ]
  },
  {
   "cell_type": "code",
   "execution_count": 37,
   "metadata": {},
   "outputs": [
    {
     "name": "stdout",
     "output_type": "stream",
     "text": [
      "Fitting 5 folds for each of 7 candidates, totalling 35 fits\n"
     ]
    },
    {
     "data": {
      "text/plain": [
       "GridSearchCV(cv=StratifiedKFold(n_splits=5, random_state=None, shuffle=False),\n",
       "             estimator=SVC(class_weight='balanced', kernel='linear',\n",
       "                           random_state=42),\n",
       "             n_jobs=-1,\n",
       "             param_grid={'C': [0.1, 1, 10, 100, 1000, 10000, 100000]},\n",
       "             scoring='recall', verbose=1)"
      ]
     },
     "execution_count": 37,
     "metadata": {},
     "output_type": "execute_result"
    }
   ],
   "source": [
    "# Grid search model\n",
    "classifier_svm = svm.SVC(random_state=42, class_weight=\"balanced\", kernel=\"linear\")\n",
    "Grid_search = GridSearchCV(estimator = classifier_svm, param_grid = param_grid, \n",
    "                          cv = StratifiedKFold(5), n_jobs = -1, verbose = 1, scoring = \"recall\" )\n",
    "Grid_search.fit(X_train_vec, Y_train)"
   ]
  },
  {
   "cell_type": "code",
   "execution_count": 38,
   "metadata": {},
   "outputs": [
    {
     "data": {
      "text/plain": [
       "{'mean_fit_time': array([3.79785967, 1.84286427, 1.34856834, 1.38694487, 1.54124985,\n",
       "        1.61040702, 1.85385795]),\n",
       " 'std_fit_time': array([0.11837445, 0.13290338, 0.04545334, 0.04792185, 0.12725296,\n",
       "        0.02389896, 0.21654027]),\n",
       " 'mean_score_time': array([0.77971911, 0.31100826, 0.24664874, 0.23645396, 0.2308578 ,\n",
       "        0.25644212, 0.26443634]),\n",
       " 'std_score_time': array([0.10352468, 0.0503732 , 0.04523819, 0.03142972, 0.02036377,\n",
       "        0.02620377, 0.02712474]),\n",
       " 'param_C': masked_array(data=[0.1, 1, 10, 100, 1000, 10000, 100000],\n",
       "              mask=[False, False, False, False, False, False, False],\n",
       "        fill_value='?',\n",
       "             dtype=object),\n",
       " 'params': [{'C': 0.1},\n",
       "  {'C': 1},\n",
       "  {'C': 10},\n",
       "  {'C': 100},\n",
       "  {'C': 1000},\n",
       "  {'C': 10000},\n",
       "  {'C': 100000}],\n",
       " 'split0_test_score': array([0.484375, 0.546875, 0.453125, 0.578125, 0.578125, 0.578125,\n",
       "        0.578125]),\n",
       " 'split1_test_score': array([0.53125 , 0.484375, 0.453125, 0.5625  , 0.5625  , 0.5625  ,\n",
       "        0.5625  ]),\n",
       " 'split2_test_score': array([0.5     , 0.53125 , 0.5     , 0.578125, 0.71875 , 0.71875 ,\n",
       "        0.71875 ]),\n",
       " 'split3_test_score': array([0.5625  , 0.59375 , 0.53125 , 0.671875, 0.671875, 0.671875,\n",
       "        0.671875]),\n",
       " 'split4_test_score': array([0.53125, 0.5625 , 0.5625 , 0.6875 , 0.6875 , 0.6875 , 0.6875 ]),\n",
       " 'mean_test_score': array([0.521875, 0.54375 , 0.5     , 0.615625, 0.64375 , 0.64375 ,\n",
       "        0.64375 ]),\n",
       " 'std_test_score': array([0.02724312, 0.03617449, 0.04307515, 0.05284855, 0.06202948,\n",
       "        0.06202948, 0.06202948]),\n",
       " 'rank_test_score': array([6, 5, 7, 4, 1, 1, 1])}"
      ]
     },
     "execution_count": 38,
     "metadata": {},
     "output_type": "execute_result"
    }
   ],
   "source": [
    "Grid_search.cv_results_"
   ]
  },
  {
   "cell_type": "markdown",
   "metadata": {},
   "source": [
    "**Task 13:** What are the best parameters?\n",
    "\n",
    "**Task 14:** Predict and evaluate using the best estimator\n",
    "  1.\tUse best estimator from the grid search to make predictions on the test set\n",
    "  2.\tWhat is the recall on the test set for the toxic comments?\n",
    "  3.\tWhat is the f1_score?\n"
   ]
  },
  {
   "cell_type": "code",
   "execution_count": 39,
   "metadata": {},
   "outputs": [
    {
     "data": {
      "text/plain": [
       "SVC(C=1000, class_weight='balanced', kernel='linear', random_state=42)"
      ]
     },
     "execution_count": 39,
     "metadata": {},
     "output_type": "execute_result"
    }
   ],
   "source": [
    "##Best estimator for search\n",
    "Grid_search.best_estimator_"
   ]
  },
  {
   "cell_type": "code",
   "execution_count": 40,
   "metadata": {},
   "outputs": [
    {
     "name": "stdout",
     "output_type": "stream",
     "text": [
      "86.13333333333333\n",
      "              precision    recall  f1-score   support\n",
      "\n",
      "           0       0.97      0.88      0.92      1383\n",
      "           1       0.31      0.63      0.42       117\n",
      "\n",
      "    accuracy                           0.86      1500\n",
      "   macro avg       0.64      0.76      0.67      1500\n",
      "weighted avg       0.91      0.86      0.88      1500\n",
      "\n"
     ]
    }
   ],
   "source": [
    "##Predict using Best estimators for Test data\n",
    "Y_test_pred_grid = Grid_search.best_estimator_.predict(X_test_vec)\n",
    "print(accuracy_score(Y_test, Y_test_pred_grid)*100)\n",
    "print(classification_report(Y_test, Y_test_pred_grid))"
   ]
  },
  {
   "cell_type": "markdown",
   "metadata": {},
   "source": [
    "**Task 15:** What are the most prominent terms in the toxic comments?\n",
    "1.\tSeparate the comments from the test set that the model identified as toxic\n",
    "2.\tMake one large list of the terms\n",
    "3.\tGet the top 15 terms\n"
   ]
  },
  {
   "cell_type": "code",
   "execution_count": 41,
   "metadata": {},
   "outputs": [
    {
     "data": {
      "text/plain": [
       "['penis',\n",
       " 'write',\n",
       " '==',\n",
       " 'sorry',\n",
       " 'commenting',\n",
       " 'blooming',\n",
       " 'idiot',\n",
       " 'gay',\n",
       " 'leader',\n",
       " 'yamla',\n",
       " 'gay',\n",
       " 'niggers',\n",
       " 'saturn',\n",
       " 'jupiter',\n",
       " 'hailing',\n",
       " 'name',\n",
       " 'wide',\n",
       " 'butt',\n",
       " 'size',\n",
       " 'city',\n",
       " 'paris',\n",
       " \"'ve\",\n",
       " 'gone',\n",
       " 'ahead',\n",
       " 'history',\n",
       " 'merged',\n",
       " 'disambiguation',\n",
       " 'page',\n",
       " '.',\n",
       " 'assuming',\n",
       " 'insult',\n",
       " 'term',\n",
       " 'irish',\n",
       " 'republican',\n",
       " 'mind',\n",
       " 'business',\n",
       " 'persian',\n",
       " 'asshole',\n",
       " 'acanoobic',\n",
       " 'noobenger',\n",
       " 'concern',\n",
       " 'u',\n",
       " 'rondo',\n",
       " 'would',\n",
       " 'interesting',\n",
       " 'tailed',\n",
       " 'jews',\n",
       " 'read',\n",
       " 'khalili.pdf',\n",
       " 'khalilli',\n",
       " 'indeed',\n",
       " 'tajik',\n",
       " 'also',\n",
       " 'great',\n",
       " 'tajik',\n",
       " 'nationalist',\n",
       " 'hated',\n",
       " 'aughan',\n",
       " 'jews',\n",
       " 'nazis',\n",
       " 'jews',\n",
       " 'thorn',\n",
       " 'eyes',\n",
       " 'pashtun',\n",
       " 'dogs',\n",
       " 'fascists-',\n",
       " 'aughanmellatis-',\n",
       " 'aughan',\n",
       " 'nazis',\n",
       " 'go',\n",
       " 'fu',\n",
       " 'ck',\n",
       " 'de',\n",
       " 'ad',\n",
       " 'mum',\n",
       " 'lick',\n",
       " 'corpse',\n",
       " 'dirty',\n",
       " 'little',\n",
       " 'w',\n",
       " 'hore',\n",
       " 'get',\n",
       " 'life',\n",
       " 'pathetic',\n",
       " 'excuse',\n",
       " 'human',\n",
       " 'problems',\n",
       " 'altenman',\n",
       " 'looks',\n",
       " 'like',\n",
       " 'problems',\n",
       " 'altenman',\n",
       " 'want',\n",
       " 'trade',\n",
       " 'notes',\n",
       " \"'d\",\n",
       " 'remove',\n",
       " 'u',\n",
       " 'nlgga',\n",
       " 'apparently',\n",
       " 'consensus',\n",
       " 'never',\n",
       " 'change',\n",
       " 'hah',\n",
       " 'propaganda',\n",
       " 'instigated',\n",
       " 'gentlemen',\n",
       " '.',\n",
       " 'infact',\n",
       " 'powder',\n",
       " 'coating',\n",
       " 'contains',\n",
       " 'epoxy',\n",
       " 'hardeners',\n",
       " 'fillers',\n",
       " 'extenders',\n",
       " 'blend',\n",
       " 'powder',\n",
       " 'form',\n",
       " 'ambient',\n",
       " 'temperature',\n",
       " 'example',\n",
       " 'appropriate',\n",
       " 'however',\n",
       " 'murder',\n",
       " 'mentioned',\n",
       " 'opening',\n",
       " 'paragraph',\n",
       " 'pushed',\n",
       " 'th',\n",
       " 'paragraph',\n",
       " 'belongs',\n",
       " 'ah',\n",
       " \"'re\",\n",
       " 'busy',\n",
       " 'pleasant',\n",
       " 'trip',\n",
       " 'eekster',\n",
       " 'hello',\n",
       " 'eekster',\n",
       " 'gya',\n",
       " 'azz',\n",
       " 'ho',\n",
       " 'reply',\n",
       " 'rott',\n",
       " 'hell',\n",
       " 'eternity',\n",
       " 'hell',\n",
       " 'hell',\n",
       " 'erase',\n",
       " 'data',\n",
       " 'nationwide',\n",
       " 'anthropometric',\n",
       " 'studies',\n",
       " 'e.g',\n",
       " 'iran',\n",
       " 'czech',\n",
       " 'republic',\n",
       " 'thailand',\n",
       " 'dinaric',\n",
       " 'alps',\n",
       " 'fill',\n",
       " 'table',\n",
       " 'absolutely',\n",
       " 'worthless',\n",
       " 'self-reported',\n",
       " 'values',\n",
       " 'implying',\n",
       " 'muslim',\n",
       " 'someone',\n",
       " \"n't\",\n",
       " 'support',\n",
       " 'criminal',\n",
       " 'fanatics',\n",
       " 'like',\n",
       " 'shiv',\n",
       " 'sena',\n",
       " 'remain',\n",
       " 'hindu',\n",
       " 'giant',\n",
       " 'gippsland',\n",
       " 'earthworms',\n",
       " 'eat',\n",
       " 'group',\n",
       " 'plants',\n",
       " 'whose',\n",
       " 'fruit',\n",
       " 'pomes',\n",
       " 'currently',\n",
       " 'malinae',\n",
       " 'unpublished',\n",
       " 'name',\n",
       " 'incorrectly',\n",
       " 'called',\n",
       " 'pyrinae',\n",
       " 'draft',\n",
       " 'place',\n",
       " 'edit',\n",
       " 'summaries',\n",
       " \"'d\",\n",
       " 'grateful',\n",
       " \"'d\",\n",
       " 'look',\n",
       " 'summary_box',\n",
       " 'always_provide_an_edit_summary',\n",
       " 'discourteous',\n",
       " 'fellow',\n",
       " 'editors',\n",
       " 'fail',\n",
       " 'provide',\n",
       " 'summary',\n",
       " 'whatever',\n",
       " 'damage',\n",
       " \"'re\",\n",
       " 'inflicting',\n",
       " 'find',\n",
       " 'fucking',\n",
       " 'useless',\n",
       " 'pos',\n",
       " 'go',\n",
       " 'fuck',\n",
       " 'nancy',\n",
       " 'dorian',\n",
       " 'early',\n",
       " 'years',\n",
       " 'study',\n",
       " 'speakers',\n",
       " 'dialect',\n",
       " 'including',\n",
       " 'one',\n",
       " 'parrot',\n",
       " 'eat',\n",
       " 'shit',\n",
       " 'farthead==',\n",
       " 'really',\n",
       " 'notable',\n",
       " 'walruses',\n",
       " 'idiot',\n",
       " 'jimbo',\n",
       " 'whales',\n",
       " '==',\n",
       " 'thing',\n",
       " 'persistant',\n",
       " 'ugly',\n",
       " 'bastard',\n",
       " 'fucking',\n",
       " 'troll',\n",
       " 'thank',\n",
       " 'poopie',\n",
       " 'pants',\n",
       " 'base',\n",
       " 'belong',\n",
       " 'yooioooooooooooooooooooooooooooooooou',\n",
       " 'many',\n",
       " 'people',\n",
       " 'poopie',\n",
       " 'pants',\n",
       " 'like',\n",
       " 'use',\n",
       " 'poopie',\n",
       " 'pants',\n",
       " 'aid',\n",
       " 'create',\n",
       " 'process',\n",
       " 'people',\n",
       " 'try',\n",
       " 'imitate',\n",
       " 'poopie',\n",
       " 'pants',\n",
       " 'unsuccessful',\n",
       " 'shitting',\n",
       " 'like',\n",
       " 'anyway',\n",
       " 'psychologist',\n",
       " 'study',\n",
       " 'people',\n",
       " 'crap',\n",
       " 'drawers',\n",
       " 'fun',\n",
       " 'pleasure',\n",
       " 'well',\n",
       " 'generating',\n",
       " 'academic',\n",
       " 'journal',\n",
       " 'two',\n",
       " 'foremost',\n",
       " 'researchers',\n",
       " 'field',\n",
       " 'rachel',\n",
       " 'bishop',\n",
       " 'meagan',\n",
       " 'p.',\n",
       " 'storey',\n",
       " 'may',\n",
       " 'enjoy',\n",
       " 'eating',\n",
       " 'poop',\n",
       " 'stories',\n",
       " 'like',\n",
       " 'molotov',\n",
       " 'cocktail',\n",
       " 'incendiary',\n",
       " 'device',\n",
       " 'wmd',\n",
       " 'thank',\n",
       " 'help',\n",
       " 'submission',\n",
       " 'made',\n",
       " 'feel',\n",
       " 'free',\n",
       " 'read',\n",
       " 'reasoning',\n",
       " 'state',\n",
       " 'opinon',\n",
       " 'feel',\n",
       " 'like',\n",
       " 'acre',\n",
       " 'israel',\n",
       " 'whoever',\n",
       " 'thats',\n",
       " 'stupid',\n",
       " '..',\n",
       " 'stupid',\n",
       " 'mutha',\n",
       " 'fucka',\n",
       " 'life',\n",
       " '..',\n",
       " 'fortunately',\n",
       " 'bitch',\n",
       " 'suck',\n",
       " 'nut',\n",
       " '..',\n",
       " 'bet',\n",
       " 'ur',\n",
       " 'fred',\n",
       " 'durst',\n",
       " 'limp',\n",
       " 'bizkit',\n",
       " 'hating',\n",
       " 'better',\n",
       " 'band',\n",
       " 'statement',\n",
       " 'learned',\n",
       " 'beliefs',\n",
       " 'true',\n",
       " \"'d\",\n",
       " 'like',\n",
       " 'delete',\n",
       " \"'ll\",\n",
       " 'reupload',\n",
       " \"'preciate\",\n",
       " 'seem',\n",
       " 'vandalism',\n",
       " 'problem',\n",
       " 'directed',\n",
       " 'words',\n",
       " 'ideas',\n",
       " 'contributions',\n",
       " 'archived',\n",
       " 'edition',\n",
       " 'admit',\n",
       " \"'m\",\n",
       " 'hell',\n",
       " 'lot',\n",
       " 'entertaining',\n",
       " 'disruptive',\n",
       " 'users',\n",
       " 'especially',\n",
       " 'hacks',\n",
       " 'trying',\n",
       " 'like',\n",
       " 'days',\n",
       " '.',\n",
       " 'fuck',\n",
       " 'rory',\n",
       " 'cumslurping',\n",
       " 'cocklover',\n",
       " 'weird',\n",
       " 'bloggish',\n",
       " 'site',\n",
       " 'mentions',\n",
       " 'scientists',\n",
       " 'believe',\n",
       " 'loch',\n",
       " 'ness',\n",
       " 'giant',\n",
       " 'sea',\n",
       " 'otter',\n",
       " 'worth',\n",
       " 'investigation',\n",
       " '==',\n",
       " 'stupid',\n",
       " 'bitch',\n",
       " '==',\n",
       " 'guns',\n",
       " \"'m\",\n",
       " 'confused',\n",
       " 'thought',\n",
       " 'kangaroos',\n",
       " \"n't\",\n",
       " 'allowed',\n",
       " 'guns',\n",
       " 'crazy',\n",
       " 'government',\n",
       " 'wasted',\n",
       " 'bunch',\n",
       " 'money',\n",
       " 'buying',\n",
       " 'back',\n",
       " 'birthplace',\n",
       " 'karachi',\n",
       " 'sindh',\n",
       " 'british',\n",
       " 'india',\n",
       " 'karachi',\n",
       " 'sindh',\n",
       " 'karachi',\n",
       " 'moron',\n",
       " 'think',\n",
       " 'snivelling',\n",
       " 'moron',\n",
       " 'unworthy',\n",
       " 'member',\n",
       " 'encyclopedia',\n",
       " 'project',\n",
       " 'mentions',\n",
       " 'apartheid',\n",
       " 'controversy',\n",
       " 'great',\n",
       " 'detail',\n",
       " 'autobiography',\n",
       " 'also',\n",
       " 'many',\n",
       " 'qoutes',\n",
       " 'currently',\n",
       " 'kind',\n",
       " 'anger',\n",
       " 'loss',\n",
       " 'control',\n",
       " 'controlled',\n",
       " 'person',\n",
       " 'honestly',\n",
       " 'claim',\n",
       " 'significant',\n",
       " 'biographical',\n",
       " 'perspective',\n",
       " 'agree',\n",
       " 'per',\n",
       " 'reasoning',\n",
       " 'heading',\n",
       " 'change',\n",
       " 'games',\n",
       " 'level',\n",
       " 'cat',\n",
       " 'wars',\n",
       " 'totally',\n",
       " 'useless',\n",
       " 'time',\n",
       " 'wasting',\n",
       " 'discuss',\n",
       " 'fuck',\n",
       " 'psychotic',\n",
       " 'fanboy',\n",
       " 'retard',\n",
       " \"'ll\",\n",
       " 'find',\n",
       " 'grow',\n",
       " 'think',\n",
       " 'little',\n",
       " 'relevance',\n",
       " 'world',\n",
       " 'pompous',\n",
       " 'fool',\n",
       " 'really',\n",
       " 'want',\n",
       " 'cramers',\n",
       " 'balls',\n",
       " 'mouth',\n",
       " 'huh',\n",
       " 'lucky',\n",
       " 'arbratary',\n",
       " 'file',\n",
       " 'incidentally',\n",
       " 'darkness',\n",
       " 'shines',\n",
       " 'posted',\n",
       " 'something',\n",
       " 'wp',\n",
       " 'outing',\n",
       " 'also',\n",
       " 'applies',\n",
       " 'case',\n",
       " 'editor',\n",
       " 'requested',\n",
       " 'change',\n",
       " 'username',\n",
       " 'whose',\n",
       " 'old',\n",
       " 'identifying',\n",
       " 'marks',\n",
       " 'still',\n",
       " 'found',\n",
       " \"n't\",\n",
       " 'aware',\n",
       " 'consider',\n",
       " 'informed',\n",
       " 'ok',\n",
       " 'seriously',\n",
       " 'hell',\n",
       " 'fair',\n",
       " 'abpw',\n",
       " '--',\n",
       " 'z',\n",
       " '8ºn',\n",
       " 'ºe',\n",
       " 'struck',\n",
       " 'ruder',\n",
       " 'comments',\n",
       " 'made',\n",
       " 'overzealous',\n",
       " 'claims',\n",
       " 'showed',\n",
       " 'false',\n",
       " 'reference',\n",
       " 'jews',\n",
       " 'walking',\n",
       " 'arch',\n",
       " 'actual',\n",
       " 'movie',\n",
       " 'jesus',\n",
       " 'told',\n",
       " 'write',\n",
       " 'ca',\n",
       " \"n't\",\n",
       " 'delete',\n",
       " 'something',\n",
       " 'awful',\n",
       " 'dead',\n",
       " 'dead',\n",
       " 'dead',\n",
       " 'dead',\n",
       " 'dead',\n",
       " 'instead',\n",
       " 'blatant',\n",
       " 'censorship',\n",
       " 'bunch',\n",
       " 'ignorant',\n",
       " 'bigots',\n",
       " 'email',\n",
       " '—',\n",
       " '•',\n",
       " '•',\n",
       " 'moreover',\n",
       " 'yellow',\n",
       " 'favorite',\n",
       " 'color',\n",
       " 'pretty',\n",
       " 'fuck',\n",
       " 'nigger',\n",
       " 'opinions',\n",
       " 'facts',\n",
       " 'turtle',\n",
       " 'fear',\n",
       " 'turtle',\n",
       " 'assume',\n",
       " 'horrible',\n",
       " 'nigger',\n",
       " 'yuck',\n",
       " 'wow',\n",
       " 'avatar',\n",
       " 'gay',\n",
       " 'yes',\n",
       " 'mean',\n",
       " 'movie',\n",
       " 'homosexual',\n",
       " 'anybody',\n",
       " 'around',\n",
       " 'thinking',\n",
       " 'killing',\n",
       " 'going',\n",
       " 'depression',\n",
       " 'movie',\n",
       " 'retarded',\n",
       " 'any1',\n",
       " 'thinks',\n",
       " 'movie',\n",
       " 'badass',\n",
       " 'epic',\n",
       " 'anime',\n",
       " 'wrong',\n",
       " 'digi',\n",
       " 'anime',\n",
       " 'yes',\n",
       " 'difference',\n",
       " 'anime',\n",
       " 'looks',\n",
       " 'cool',\n",
       " 'gay',\n",
       " 'digi',\n",
       " 'looks',\n",
       " 'utterly',\n",
       " 'fucking',\n",
       " 'gay',\n",
       " 'retarded',\n",
       " 'any1',\n",
       " 'posts',\n",
       " 'retarded',\n",
       " 'son',\n",
       " 'b',\n",
       " 'itch',\n",
       " 'needs',\n",
       " 'diaper',\n",
       " 'change',\n",
       " 'p.s',\n",
       " 'peace',\n",
       " 'movies',\n",
       " 'editors',\n",
       " 'may',\n",
       " 'rott',\n",
       " 'hell',\n",
       " 'also',\n",
       " 'fuck',\n",
       " \"'re\",\n",
       " 'making',\n",
       " 'another',\n",
       " 'one',\n",
       " 'shows',\n",
       " 'good',\n",
       " 'getting',\n",
       " 'cash',\n",
       " 'movie',\n",
       " 'supposed',\n",
       " 'one',\n",
       " 'box',\n",
       " 'office',\n",
       " \"'s\",\n",
       " 'reason',\n",
       " 'ppl',\n",
       " 'went',\n",
       " 'movie',\n",
       " 'gay',\n",
       " 'blue',\n",
       " 'retarded',\n",
       " 'fairys',\n",
       " 'dieing',\n",
       " 'might',\n",
       " 'earth',\n",
       " 'breathe',\n",
       " 'space',\n",
       " 'air',\n",
       " 'sons',\n",
       " 'bitches',\n",
       " 'signed',\n",
       " 'jeremy',\n",
       " 'go',\n",
       " 'fuckin',\n",
       " 'hang',\n",
       " 'fuckin',\n",
       " 'scum',\n",
       " 'earth',\n",
       " 'fuck',\n",
       " 'asshole',\n",
       " 'alan',\n",
       " 'watt',\n",
       " \"'s\",\n",
       " 'books',\n",
       " 'alan',\n",
       " 'watt',\n",
       " \"'s\",\n",
       " 'books',\n",
       " 'meant',\n",
       " 'purchased',\n",
       " 'offered',\n",
       " 'free',\n",
       " 'think',\n",
       " 'link',\n",
       " 'removed',\n",
       " 'even',\n",
       " 'buy',\n",
       " 'argument',\n",
       " 'alan',\n",
       " 'ripped',\n",
       " 'content',\n",
       " 'glenn',\n",
       " 'kealey',\n",
       " \"n't\",\n",
       " 'mean',\n",
       " 'allowed',\n",
       " 'put',\n",
       " 'download',\n",
       " 'links',\n",
       " 'copyrighted',\n",
       " 'books',\n",
       " 'ca',\n",
       " \"n't\",\n",
       " 'even',\n",
       " 'plead',\n",
       " 'case',\n",
       " 'closed',\n",
       " 'able',\n",
       " 'make',\n",
       " 'contribution',\n",
       " 'delete',\n",
       " 'whhore',\n",
       " 'need',\n",
       " 'warn',\n",
       " 'twice',\n",
       " 'think',\n",
       " \"'re\",\n",
       " 'overreacting',\n",
       " 'hey',\n",
       " 'buddy',\n",
       " 'back',\n",
       " 'regarding',\n",
       " 'previous',\n",
       " 'posts',\n",
       " 'food',\n",
       " 'thought',\n",
       " 'marine',\n",
       " 'corps',\n",
       " 'gunny',\n",
       " 'sgt',\n",
       " 'someone',\n",
       " 'command',\n",
       " 'bar',\n",
       " 'party',\n",
       " 'never',\n",
       " 'show',\n",
       " 'drunk',\n",
       " 'drunk',\n",
       " 'admit',\n",
       " \"'re\",\n",
       " 'basically',\n",
       " 'shooting',\n",
       " 'foot',\n",
       " 'admitting',\n",
       " 'drinks',\n",
       " 'fiddling',\n",
       " 'around',\n",
       " 'cases',\n",
       " '3',\n",
       " 'cases',\n",
       " 'learn',\n",
       " 'pal',\n",
       " 'vandalism',\n",
       " 'spreading',\n",
       " 'lies',\n",
       " 'think',\n",
       " 'vandal',\n",
       " 'writing',\n",
       " 'lies',\n",
       " 'jami',\n",
       " 'pederastic',\n",
       " 'poetry',\n",
       " 'removed',\n",
       " 'doubt',\n",
       " 'caption',\n",
       " 'pictures',\n",
       " 'jami',\n",
       " 'books',\n",
       " \"'s\",\n",
       " 'gay',\n",
       " 'lobbyist',\n",
       " 'imagination',\n",
       " \"n't\",\n",
       " 'need',\n",
       " 'justify',\n",
       " 'way',\n",
       " 'living',\n",
       " 'labling',\n",
       " 'others',\n",
       " 'pederast',\n",
       " 'make',\n",
       " \"'s\",\n",
       " 'creator',\n",
       " 'principle',\n",
       " 'author',\n",
       " 'rack-on-tours',\n",
       " \"'s\",\n",
       " 'supposed',\n",
       " 'mean',\n",
       " 'storyteller',\n",
       " \"'s\",\n",
       " 'read',\n",
       " 'dictionary',\n",
       " 'hanibalyou',\n",
       " \"'re\",\n",
       " 'bastard',\n",
       " 'pro-assad.hanibalyou',\n",
       " \"'re\",\n",
       " 'bastard',\n",
       " 'pro-assad.hanibalyou',\n",
       " \"'re\",\n",
       " 'bastard',\n",
       " 'pro-assad.hanibalyou',\n",
       " \"'re\",\n",
       " 'bastard',\n",
       " 'pro-assad.hanibalyou',\n",
       " \"'re\",\n",
       " 'bastard',\n",
       " 'pro-assad.hanibalyou',\n",
       " \"'re\",\n",
       " 'bastard',\n",
       " 'pro-assad.hanibalyou',\n",
       " \"'re\",\n",
       " 'bastard',\n",
       " 'pro-assad.hanibalyou',\n",
       " \"'re\",\n",
       " 'bastard',\n",
       " 'pro-assad.hanibalyou',\n",
       " \"'re\",\n",
       " 'bastard',\n",
       " 'pro-assad.hanibalyou',\n",
       " \"'re\",\n",
       " 'bastard',\n",
       " 'pro-assad.hanibalyou',\n",
       " \"'re\",\n",
       " 'bastard',\n",
       " 'pro-assad.hanibalyou',\n",
       " \"'re\",\n",
       " 'bastard',\n",
       " 'pro-assad.hanibalyou',\n",
       " \"'re\",\n",
       " 'bastard',\n",
       " 'pro-assad.hanibalyou',\n",
       " \"'re\",\n",
       " 'bastard',\n",
       " 'pro-assad.hanibalyou',\n",
       " \"'re\",\n",
       " 'bastard',\n",
       " 'pro-assad.hanibalyou',\n",
       " \"'re\",\n",
       " 'bastard',\n",
       " 'pro-assad.hanibalyou',\n",
       " \"'re\",\n",
       " 'bastard',\n",
       " 'pro-assad.hanibalyou',\n",
       " \"'re\",\n",
       " 'bastard',\n",
       " 'pro-assad.hanibalyou',\n",
       " \"'re\",\n",
       " 'bastard',\n",
       " 'pro-assad.hanibalyou',\n",
       " \"'re\",\n",
       " 'bastard',\n",
       " 'pro-assad.hanibalyou',\n",
       " \"'re\",\n",
       " 'bastard',\n",
       " 'pro-assad.hanibalyou',\n",
       " \"'re\",\n",
       " 'bastard',\n",
       " 'pro-assad.hanibalyou',\n",
       " \"'re\",\n",
       " 'bastard',\n",
       " 'pro-assad.hanibalyou',\n",
       " \"'re\",\n",
       " 'bastard',\n",
       " 'pro-assad.hanibalyou',\n",
       " \"'re\",\n",
       " 'bastard',\n",
       " 'pro-assad.hanibalyou',\n",
       " \"'re\",\n",
       " 'bastard',\n",
       " 'pro-assad.hanibalyou',\n",
       " \"'re\",\n",
       " 'bastard',\n",
       " 'pro-assad.hanibalyou',\n",
       " \"'re\",\n",
       " 'bastard',\n",
       " 'pro-assad.hanibalyou',\n",
       " \"'re\",\n",
       " 'bastard',\n",
       " 'pro-assad.hanibalyou',\n",
       " \"'re\",\n",
       " 'bastard',\n",
       " 'pro-assad.hanibalyou',\n",
       " \"'re\",\n",
       " 'bastard',\n",
       " 'pro-assad.hanibalyou',\n",
       " \"'re\",\n",
       " 'bastard',\n",
       " 'pro-assad.hanibalyou',\n",
       " \"'re\",\n",
       " 'bastard',\n",
       " 'pro-assad.hanibalyou',\n",
       " \"'re\",\n",
       " 'bastard',\n",
       " 'pro-assad.hanibalyou',\n",
       " \"'re\",\n",
       " 'bastard',\n",
       " 'pro-assad.hanibalyou',\n",
       " \"'re\",\n",
       " 'bastard',\n",
       " 'pro-assad.hanibalyou',\n",
       " \"'re\",\n",
       " 'bastard',\n",
       " 'pro-assad.hanibalyou',\n",
       " \"'re\",\n",
       " 'bastard',\n",
       " 'pro-assad.hanibalyou',\n",
       " \"'re\",\n",
       " 'bastard',\n",
       " 'pro-assad.hanibalyou',\n",
       " \"'re\",\n",
       " 'bastard',\n",
       " 'pro-assad.hanibalyou',\n",
       " \"'re\",\n",
       " 'bastard',\n",
       " 'pro-assad.hanibalyou',\n",
       " \"'re\",\n",
       " 'bastard',\n",
       " 'pro-assad.hanibalyou',\n",
       " \"'re\",\n",
       " 'bastard',\n",
       " 'pro-assad.hanibalyou',\n",
       " \"'re\",\n",
       " 'bastard',\n",
       " 'pro-assad.hanibalyou',\n",
       " \"'re\",\n",
       " 'bastard',\n",
       " 'pro-assad.hanibalyou',\n",
       " \"'re\",\n",
       " 'bastard',\n",
       " 'pro-assad.hanibalyou',\n",
       " \"'re\",\n",
       " 'bastard',\n",
       " 'pro-assad.hanibalyou',\n",
       " \"'re\",\n",
       " 'bastard',\n",
       " 'pro-assad.hanibalyou',\n",
       " \"'re\",\n",
       " 'bastard',\n",
       " 'pro-assad.hanibalyou',\n",
       " \"'re\",\n",
       " 'bastard',\n",
       " 'pro-assad.hanibalyou',\n",
       " \"'re\",\n",
       " 'bastard',\n",
       " 'pro-assad.hanibalyou',\n",
       " \"'re\",\n",
       " 'bastard',\n",
       " 'pro-assad.hanibalyou',\n",
       " \"'re\",\n",
       " 'bastard',\n",
       " 'pro-assad.hanibalyou',\n",
       " \"'re\",\n",
       " 'bastard',\n",
       " 'pro-assad.hanibalyou',\n",
       " \"'re\",\n",
       " 'bastard',\n",
       " 'pro-assad.hanibalyou',\n",
       " \"'re\",\n",
       " 'bastard',\n",
       " 'pro-assad.hanibalyou',\n",
       " \"'re\",\n",
       " 'bastard',\n",
       " 'pro-assad.hanibalyou',\n",
       " \"'re\",\n",
       " 'bastard',\n",
       " 'pro-assad.hanibalyou',\n",
       " \"'re\",\n",
       " 'bastard',\n",
       " 'pro-assad.hanibalyou',\n",
       " \"'re\",\n",
       " 'bastard',\n",
       " 'pro-assad.hanibalyou',\n",
       " \"'re\",\n",
       " 'bastard',\n",
       " 'pro-assad.hanibalyou',\n",
       " \"'re\",\n",
       " 'bastard',\n",
       " 'pro-assad.hanibalyou',\n",
       " \"'re\",\n",
       " 'bastard',\n",
       " 'pro-assad.hanibalyou',\n",
       " \"'re\",\n",
       " 'bastard',\n",
       " 'pro-assad.hanibalyou',\n",
       " \"'re\",\n",
       " 'bastard',\n",
       " 'pro-assad.hanibalyou',\n",
       " \"'re\",\n",
       " 'bastard',\n",
       " 'pro-assad.hanibalyou',\n",
       " \"'re\",\n",
       " 'bastard',\n",
       " 'pro-assad.hanibalyou',\n",
       " \"'re\",\n",
       " 'bastard',\n",
       " 'pro-assad.hanibalyou',\n",
       " \"'re\",\n",
       " 'bastard',\n",
       " 'pro-assad.hanibalyou',\n",
       " \"'re\",\n",
       " 'bastard',\n",
       " 'pro-assad.hanibalyou',\n",
       " \"'re\",\n",
       " 'bastard',\n",
       " 'pro-assad.hanibalyou',\n",
       " \"'re\",\n",
       " ...]"
      ]
     },
     "execution_count": 41,
     "metadata": {},
     "output_type": "execute_result"
    }
   ],
   "source": [
    "##Most prominen terms in Toxics comments\n",
    "Toxic_comments = pd.Series(X_test)[Y_test_pred_grid == 1].values\n",
    "term_list2 = []\n",
    "for comment in Toxic_comments:\n",
    "    term_list2.extend(word_tokenize(comment))\n",
    "    \n",
    "term_list2"
   ]
  },
  {
   "cell_type": "code",
   "execution_count": 42,
   "metadata": {},
   "outputs": [
    {
     "data": {
      "text/plain": [
       "\"penis  write  ==  sorry  commenting  blooming  idiot  gay  leader  yamla  gay  niggers  saturn  jupiter  hailing  name  wide  butt  size  city  paris  've  gone  ahead  history  merged  disambiguation  page  .  assuming  insult  term  irish  republican  mind  business  persian  asshole  acanoobic  noobenger  concern  u  rondo  would  interesting  tailed  jews  read  khalili.pdf  khalilli  indeed  tajik  also  great  tajik  nationalist  hated  aughan  jews  nazis  jews  thorn  eyes  pashtun  dogs  fascists-  aughanmellatis-  aughan  nazis  go  fu  ck  de  ad  mum  lick  corpse  dirty  little  w  hore  get  life  pathetic  excuse  human  problems  altenman  looks  like  problems  altenman  want  trade  notes  'd  remove  u  nlgga  apparently  consensus  never  change  hah  propaganda  instigated  gentlemen  .  infact  powder  coating  contains  epoxy  hardeners  fillers  extenders  blend  powder  form  ambient  temperature  example  appropriate  however  murder  mentioned  opening  paragraph  pushed  th  paragraph  belongs  ah  're  busy  pleasant  trip  eekster  hello  eekster  gya  azz  ho  reply  rott  hell  eternity  hell  hell  erase  data  nationwide  anthropometric  studies  e.g  iran  czech  republic  thailand  dinaric  alps  fill  table  absolutely  worthless  self-reported  values  implying  muslim  someone  n't  support  criminal  fanatics  like  shiv  sena  remain  hindu  giant  gippsland  earthworms  eat  group  plants  whose  fruit  pomes  currently  malinae  unpublished  name  incorrectly  called  pyrinae  draft  place  edit  summaries  'd  grateful  'd  look  summary_box  always_provide_an_edit_summary  discourteous  fellow  editors  fail  provide  summary  whatever  damage  're  inflicting  find  fucking  useless  pos  go  fuck  nancy  dorian  early  years  study  speakers  dialect  including  one  parrot  eat  shit  farthead==  really  notable  walruses  idiot  jimbo  whales  ==  thing  persistant  ugly  bastard  fucking  troll  thank  poopie  pants  base  belong  yooioooooooooooooooooooooooooooooooou  many  people  poopie  pants  like  use  poopie  pants  aid  create  process  people  try  imitate  poopie  pants  unsuccessful  shitting  like  anyway  psychologist  study  people  crap  drawers  fun  pleasure  well  generating  academic  journal  two  foremost  researchers  field  rachel  bishop  meagan  p.  storey  may  enjoy  eating  poop  stories  like  molotov  cocktail  incendiary  device  wmd  thank  help  submission  made  feel  free  read  reasoning  state  opinon  feel  like  acre  israel  whoever  thats  stupid  ..  stupid  mutha  fucka  life  ..  fortunately  bitch  suck  nut  ..  bet  ur  fred  durst  limp  bizkit  hating  better  band  statement  learned  beliefs  true  'd  like  delete  'll  reupload  'preciate  seem  vandalism  problem  directed  words  ideas  contributions  archived  edition  admit  'm  hell  lot  entertaining  disruptive  users  especially  hacks  trying  like  days  .  fuck  rory  cumslurping  cocklover  weird  bloggish  site  mentions  scientists  believe  loch  ness  giant  sea  otter  worth  investigation  ==  stupid  bitch  ==  guns  'm  confused  thought  kangaroos  n't  allowed  guns  crazy  government  wasted  bunch  money  buying  back  birthplace  karachi  sindh  british  india  karachi  sindh  karachi  moron  think  snivelling  moron  unworthy  member  encyclopedia  project  mentions  apartheid  controversy  great  detail  autobiography  also  many  qoutes  currently  kind  anger  loss  control  controlled  person  honestly  claim  significant  biographical  perspective  agree  per  reasoning  heading  change  games  level  cat  wars  totally  useless  time  wasting  discuss  fuck  psychotic  fanboy  retard  'll  find  grow  think  little  relevance  world  pompous  fool  really  want  cramers  balls  mouth  huh  lucky  arbratary  file  incidentally  darkness  shines  posted  something  wp  outing  also  applies  case  editor  requested  change  username  whose  old  identifying  marks  still  found  n't  aware  consider  informed  ok  seriously  hell  fair  abpw  --  z  8ºn  ºe  struck  ruder  comments  made  overzealous  claims  showed  false  reference  jews  walking  arch  actual  movie  jesus  told  write  ca  n't  delete  something  awful  dead  dead  dead  dead  dead  instead  blatant  censorship  bunch  ignorant  bigots  email  —  •  •  moreover  yellow  favorite  color  pretty  fuck  nigger  opinions  facts  turtle  fear  turtle  assume  horrible  nigger  yuck  wow  avatar  gay  yes  mean  movie  homosexual  anybody  around  thinking  killing  going  depression  movie  retarded  any1  thinks  movie  badass  epic  anime  wrong  digi  anime  yes  difference  anime  looks  cool  gay  digi  looks  utterly  fucking  gay  retarded  any1  posts  retarded  son  b  itch  needs  diaper  change  p.s  peace  movies  editors  may  rott  hell  also  fuck  're  making  another  one  shows  good  getting  cash  movie  supposed  one  box  office  's  reason  ppl  went  movie  gay  blue  retarded  fairys  dieing  might  earth  breathe  space  air  sons  bitches  signed  jeremy  go  fuckin  hang  fuckin  scum  earth  fuck  asshole  alan  watt  's  books  alan  watt  's  books  meant  purchased  offered  free  think  link  removed  even  buy  argument  alan  ripped  content  glenn  kealey  n't  mean  allowed  put  download  links  copyrighted  books  ca  n't  even  plead  case  closed  able  make  contribution  delete  whhore  need  warn  twice  think  're  overreacting  hey  buddy  back  regarding  previous  posts  food  thought  marine  corps  gunny  sgt  someone  command  bar  party  never  show  drunk  drunk  admit  're  basically  shooting  foot  admitting  drinks  fiddling  around  cases  3  cases  learn  pal  vandalism  spreading  lies  think  vandal  writing  lies  jami  pederastic  poetry  removed  doubt  caption  pictures  jami  books  's  gay  lobbyist  imagination  n't  need  justify  way  living  labling  others  pederast  make  's  creator  principle  author  rack-on-tours  's  supposed  mean  storyteller  's  read  dictionary  hanibalyou  're  bastard  pro-assad.hanibalyou  're  bastard  pro-assad.hanibalyou  're  bastard  pro-assad.hanibalyou  're  bastard  pro-assad.hanibalyou  're  bastard  pro-assad.hanibalyou  're  bastard  pro-assad.hanibalyou  're  bastard  pro-assad.hanibalyou  're  bastard  pro-assad.hanibalyou  're  bastard  pro-assad.hanibalyou  're  bastard  pro-assad.hanibalyou  're  bastard  pro-assad.hanibalyou  're  bastard  pro-assad.hanibalyou  're  bastard  pro-assad.hanibalyou  're  bastard  pro-assad.hanibalyou  're  bastard  pro-assad.hanibalyou  're  bastard  pro-assad.hanibalyou  're  bastard  pro-assad.hanibalyou  're  bastard  pro-assad.hanibalyou  're  bastard  pro-assad.hanibalyou  're  bastard  pro-assad.hanibalyou  're  bastard  pro-assad.hanibalyou  're  bastard  pro-assad.hanibalyou  're  bastard  pro-assad.hanibalyou  're  bastard  pro-assad.hanibalyou  're  bastard  pro-assad.hanibalyou  're  bastard  pro-assad.hanibalyou  're  bastard  pro-assad.hanibalyou  're  bastard  pro-assad.hanibalyou  're  bastard  pro-assad.hanibalyou  're  bastard  pro-assad.hanibalyou  're  bastard  pro-assad.hanibalyou  're  bastard  pro-assad.hanibalyou  're  bastard  pro-assad.hanibalyou  're  bastard  pro-assad.hanibalyou  're  bastard  pro-assad.hanibalyou  're  bastard  pro-assad.hanibalyou  're  bastard  pro-assad.hanibalyou  're  bastard  pro-assad.hanibalyou  're  bastard  pro-assad.hanibalyou  're  bastard  pro-assad.hanibalyou  're  bastard  pro-assad.hanibalyou  're  bastard  pro-assad.hanibalyou  're  bastard  pro-assad.hanibalyou  're  bastard  pro-assad.hanibalyou  're  bastard  pro-assad.hanibalyou  're  bastard  pro-assad.hanibalyou  're  bastard  pro-assad.hanibalyou  're  bastard  pro-assad.hanibalyou  're  bastard  pro-assad.hanibalyou  're  bastard  pro-assad.hanibalyou  're  bastard  pro-assad.hanibalyou  're  bastard  pro-assad.hanibalyou  're  bastard  pro-assad.hanibalyou  're  bastard  pro-assad.hanibalyou  're  bastard  pro-assad.hanibalyou  're  bastard  pro-assad.hanibalyou  're  bastard  pro-assad.hanibalyou  're  bastard  pro-assad.hanibalyou  're  bastard  pro-assad.hanibalyou  're  bastard  pro-assad.hanibalyou  're  bastard  pro-assad.hanibalyou  're  bastard  pro-assad.hanibalyou  're  bastard  pro-assad.hanibalyou  're  bastard  pro-assad.hanibalyou  're  bastard  pro-assad.hanibalyou  're  bastard  pro-assad.hanibalyou  're  bastard  pro-assad.hanibalyou  're  bastard  pro-assad.hanibalyou  're  bastard  pro-assad.hanibalyou  're  bastard  pro-assad.hanibalyou  're  bastard  pro-assad.hanibalyou  're  bastard  pro-assad.hanibalyou  're  bastard  pro-assad.hanibalyou  're  bastard  pro-assad.hanibalyou  're  bastard  pro-assad.hanibalyou  're  bastard  pro-assad.hanibalyou  're  bastard  pro-assad.hanibalyou  're  bastard  pro-assad.hanibalyou  're  bastard  pro-assad.hanibalyou  're  bastard  pro-assad.hanibalyou  're  bastard  pro-assad.hanibalyou  're  bastard  pro-assad.hanibalyou  're  bastard  pro-assad.hanibalyou  're  bastard  pro-assad.hanibalyou  're  bastard  pro-assad.hanibalyou  're  bastard  pro-assad.hanibalyou  're  bastard  pro-assad.hanibalyou  're  bastard  pro-assad.hanibalyou  're  bastard  pro-assad.hanibalyou  're  bastard  pro-assad.hanibalyou  're  bastard  pro-assad.hanibalyou  're  bastard  pro-assad.hanibalyou  're  bastard  pro-assad.hanibalyou  're  bastard  pro-assad.hanibalyou  're  bastard  pro-assad.hanibalyou  're  bastard  pro-assad.hanibalyou  're  bastard  pro-assad.hanibalyou  're  bastard  pro-assad.hanibalyou  're  bastard  pro-assad.hanibalyou  're  bastard  pro-assad.hanibalyou  're  bastard  pro-assad.hanibalyou  're  bastard  pro-assad.hanibalyou  're  bastard  pro-assad.hanibalyou  're  bastard  pro-assad.hanibalyou  're  bastard  pro-assad.hanibalyou  're  bastard  pro-assad.hanibalyou  're  bastard  pro-assad  makes  kinda  obvious  n't  nixie  part  2  banned  warned  making  much  sense  lover  unfair  help  man  pregnant  're  getting  misdirection  entire  shitstorm  began  yelling  offense  muslims  n't  stick  morphed  's  muslims  view  muhammad  're  engaging  philosophical  combat  ensuring  islam  's  philosophical  position  put  possible  potential  consideration  making  editorial  decision  views  irrelevant  .  exists  already  gemeinschaft  gesellschaft  hey  genius  last  worked  2  years  ago  've  2  years  fix  reference  've  lazy  dare  whine  happened  noticed  fix  problem  delete  valid  tags  ca  n't  change  way  want  business  years  ....  pfft  n't  life  instead  patrolling  prick  're  fucking  prick  fuck  giant  prick  shut  exactly  shut  least  referenced  blog  instead  encyclopedia  current  event  constantly  changing  yet  publishing  fact  woods  garrett  |technology  |-  |wright  concetta  |foreign  language  |-  |zilinski  rebecca  |art  |-  |zitz  christina  |foreign  language  careful  developed  brain  nervous  system  already  agree  boiling  pain  worth  taste  farms  offered  eggs  dead  embryoes  dead  long  hygiene  problem  much  unfementalited  eggs  chicken  killed  less  painful  section  remains  weakest  touch  main  points  're  inability  apologise  statements  says  anything  else  've  posted  deplorable  shame  congratulatoins  danny  norlen  still  vp  right  red  power  ranger  currently  refers  red  ranger  mighty  morphin  power  rangers  western  legal  systems  please  leave  messages  stingray  hey  amigo  care  person  killed  stingray  sept.  4th  opposed  sept.  write  future  n't  change  please  direct  efforts  areas  meaningful  rossp  hong  kong  meetup  already  responded  workshop  reason  marx  's  explicit  identification  capital  vampires  written  satire  gothic  literature  n't  legal  commentator  timothy  sandefur  might  prove  useful  talkstalk  exactly  's  extremely  clear  ankhmorpork  stands  politically  wonder  media  especially  norwegian  media  claiming  hijjacked  right-wing  extremists  .  limits  done  brief  passages  think  claim  little  leeway  level  development  worst  case  combination  words  manage  put  facts  left  looks  like  direct  lift  source  'd  suggest  putting  quotes  either  side  words  match  eg  'the  right  wing  broke  attached  fuselage  aircraft  already  fire  came  rest  hey  loser  many  edits  namespace  edits  main  namespace  continue  behave  like  people  might  begin  think  troll  filthy  fuck  go  fuck  self  shutup  u  think  u  gay  nobody  thats  got  userbox  orientation  n't  affect  cuz  tried  sleep  chris  brown  n't  want  u  go  get  yo  man  ugly  digusting  cockroach  go  touch  yoself  something  yo  boifriend  yamla  wen  babya  doe  septmeber  lollllllllllllllllllllllllllllllllllllllllllllllllllllllllllllllllllllllllllllllllllllllllllllllllllllllllllllllllllllllllllllllllllllllllllllllllllllllllllllllllllllllllllllllllllllllllllllllllllllllllllllllllllllllllllllllllllllllllllllllllllllllllllllllllllllllllllllooooooooooooooooooooooooooooooooooooooooooooooooooooooooooooooooooooooooooooooooooooooooooooooooooooooooooooooooooooooooooooooooooooooooooooooooooooouuuuuuuuuuuuuuuuuuuuuuuuuuuuuuuuuuuuuuuuuuuuuuuuuuuuuuuuuuuuuuuuuuuuuuuuuuuuuuuuuuuuuuuuuuuuuuuuuuuuuuuuuuuuuuuuuuuuuuuuuuuuuuuuuuuuuuuuuuuudddddddddddddddddddddddddddddddddddddddddddddddddddddddddddddddddddddddddddddddddddddddddddddddddddddddddddddddddddddddddddddddddddddddddddddddddddddddddddddddd  user  decline=i  n't  fucking  think  gay  gay  gay  gay  gay  gay  gay  gay  gay  gay  gay  gay  gay  gay  gay  gay  gay  gay  gay  gay  gay  gay  gay  gay  gay  gay  gay  gay  gay  gay  gay  gay  gay  gay  gay  gay  gay  gay  gay  gay  gay  gay  gay  gay  gay  gay  gay  gay  gay  gay  gay  gay  gay  gay  gay  gay  gay  gay  gay  gay  gay  gay  gay  gay  gay  gay  gay  gay  gay  gay  gay  gay  gay  gay  gay  gay  gay  gay  gay  gay  gay  gay  gay  gay  gay  gay  gay  gay  gay  gay  gay  gay  gay  gay  gay  gay  gay  gay  gay  gay  gay  gay  gay  gay  gay  gay  gay  gay  gay  gay  gay  gay  gay  gay  gay  gay  gay  gay  gay  gay  gay  gay  gay  gay  gay  gay  gay  gay  gay  gay  gay  gay  gay  gay  gay  gay  gay  gay  gay  gay  gay  gay  gay  gay  gay  gay  gay  gay  gay  gay  gay  gay  gay  gay  gay  gay  gay  gay  gay  gay  gay  gay  gay  gay  gay  gay  gay  gay  gay  gay  gay  gay  gay  gay  gay  gay  gay  gay  gay  gay  gay  gay  gay  gay  gay  gay  gay  gay  gay  gay  gay  gay  gay  gay  gay  gay  gay  gay  gay  gay  gay  gay  gay  gay  gay  gay  gay  gay  simply  exist  get  deleting  took  ages  jus  come  delete  leaving  shitty  mtv  bollox  fucking  americans  nothing  bunch  fucking  hicks  presidents  fucking  redneck  hick  cant  wait  see  day  bastard  gets  nuke  arse  9/  nukes  radiation-induced  cancers  watch  video  ur  mr  gay  put  trivia  really  cool  someone  get  photo  shaktiman  huge  crane  smashed  karnaphuli  bridge  broke  two  halves  .  suggested  change  made  include  definition  begining  uh  yes  someone  explains  n't  issue  worth  concern  decline=there  autoblock  present  expired  romanian  represenation  june  summit  please  modify  romanian  head  delegation  summit  president  basescu  prime-minister  ponta  according  eu  council  official  site  one  added  cite  list  capped  5  're  going  remove  pdf  presumably  replace  hiv  problem  solved  vandal  hi  block  de  la  salle  college  toronto  yet  mass  libel  appropriate  fascinating  yawn  dont  raja  gives  shit  snot  nosed  kids  damn  time  scorsese  damn  award  sorry  respond  trolls  turns  pen-y-ghent  's  prominence  parent  whernside  kinder  scout  whernside  ingleborough  cross  fell  parent  —preceding  unsigned  comment  added  targeted  trigger  happy  admin  ass  neck  virtual  graffiti  hmm  ..  seems  close  .....  um  sure  .....  um  ..  wait  yes  ass  neck  hahah  beyond  fool  hey  man  retarded  mexican  cocksucking  piece  fucking  shit  please  go  fucking  kill  admins  lower  niggers  fuck  's  hm  wow  say  ~~  come  shout  ahhh  editorial  douchery  block  wow  reporting  link  im  yrs  old  probaly  year  old  man  lives  mom  deleting  request  arbitration  mean  former  extremely  racist  biased  introduction  meant  degrade  islam  viewpoint  members  kkk  neutral  well  balanced  yes  'm  finding  tiresome  n't  want  wording  say  requested  wording  uk  web  site  consortium  says  clearly  site  selected  preservation  british  library  therefore  feel  quoting  exact  words  consortium  's  web  site  entirely  acceptable  .  prob  boomer  duke  b  's  presentation  right  pattens  worn  's  print  commons  cat  pattens  alongside  'm  sure  others  period  please  stop  abusing  word  hopefully  used  tag  bullying  word  hopefully  used  correctly  hopefully  adverb  sentence  need  rephrased  rephrase  used  pejoratives  upset  eat  turn  automatic  smg  gearbox  hahaha  pussy  b/itch  're  b1tch  rescinded  victorian  legislation  legislation  rescinded  possible  scheme  legislated  government  scheme  set  bottlers  primary  school  history  secondary  school  archaeology  primary  school  history  secondary  school  archaeology  exactly  finished  primary  secondary  school  history  archaeology  supposed  mean  worries  created  –  oberliga  westfalen  feel  free  improve  update  shortened  sample  seconds.tell  vanbrugh  's  theatre  pic  queen's/king  's  theatre  west  haymarket  site  present  majesty  's  theatre  foote  's  theatre  present  theatre  royal  opposite  east  side  shut  fck  ferret  hello  friends  hank  chapot  california  information  pollution  legacy  plant  researching  gas  manufacturing  plants  us  pollution  story  important  think  including  legacy  ash  cinder  liquid  wasste  huge  furnaces  wow  really  twisted  view  external  links  removing  're  intentional  yet  keeping  're  unwanted  perhaps  'd  perfect  editor  start  new  warez  links  jim  wales  die  jim  wales  die  jim  wales  die  jim  wales  die  jim  wales  die  jim  wales  die  jim  wales  die  jim  wales  die  jim  wales  die  jim  wales  die  jim  wales  die  jim  wales  die  jim  wales  die  jim  wales  die  jim  wales  die  jim  wales  die  jim  wales  die  jim  wales  die  jim  wales  die  jim  wales  die  jim  wales  die  jim  wales  die  jim  wales  die  jim  wales  die  jim  wales  die  jim  wales  die  jim  wales  die  jim  wales  die  jim  wales  die  jim  wales  die  jim  wales  die  jim  wales  die  jim  wales  die  jim  wales  die  jim  wales  die  jim  wales  die  jim  wales  die  jim  wales  die  jim  wales  die  jim  wales  die  jim  wales  die  jim  wales  die  jim  wales  die  jim  wales  die  jim  wales  die  jim  wales  die  jim  wales  die  jim  wales  die  jim  wales  die  jim  wales  die  jim  wales  die  jim  wales  die  jim  wales  die  jim  wales  die  jim  wales  die  jim  wales  die  jim  wales  die  jim  wales  die  jim  wales  die  jim  wales  die  jim  wales  die  jim  wales  die  jim  wales  die  jim  wales  die  jim  wales  die  jim  wales  die  jim  wales  die  jim  wales  die  jim  wales  die  jim  wales  die  jim  wales  die  jim  wales  die  jim  wales  die  jim  wales  die  jim  wales  die  jim  wales  die  jim  wales  die  jim  wales  die  jim  wales  die  jim  wales  die  jim  wales  die  jim  wales  die  jim  wales  die  jim  wales  die  jim  wales  die  jim  wales  die  jim  wales  die  jim  wales  die  jim  wales  die  jim  wales  die  jim  wales  die  jim  wales  die  jim  wales  die  jim  wales  die  jim  wales  die  jim  wales  die  jim  wales  die  jim  wales  die  jim  wales  die  jim  wales  die  jim  wales  die  jim  wales  die  jim  wales  die  jim  wales  die  jim  wales  die  jim  wales  die  jim  wales  die  jim  wales  die  jim  wales  die  jim  wales  die  jim  wales  die  jim  wales  die  jim  wales  die  jim  wales  die  jim  wales  die  jim  wales  die  jim  wales  die  jim  wales  die  jim  wales  die  jim  wales  die  jim  wales  die  jim  wales  die  jim  wales  die  jim  wales  die  jim  wales  die  jim  wales  die  jim  wales  die  jim  wales  die  jim  wales  die  jim  wales  die  jim  wales  die  jim  wales  die  jim  wales  die  jim  wales  die  jim  wales  die  jim  wales  die  jim  wales  die  jim  wales  die  jim  wales  die  jim  wales  die  jim  wales  die  jim  wales  die  jim  wales  die  jim  wales  die  jim  wales  die  jim  wales  die  jim  wales  die  jim  wales  die  jim  wales  die  jim  wales  die  jim  wales  die  jim  wales  die  jim  wales  die  jim  wales  die  jim  wales  die  jim  wales  die  jim  wale  u  suck  donkey  balls  yeah  ethnic  african  varieties  including  ethnic  african  arabs  deserving  real  identities  ethnic  inogoloid  hakka-dialect  speakers  matters  well  mv  reassessment  mis-handling  whole  issue  piper  jodhi  piper  perabo  jodhi  mayy  look  big  similarity  faces  baseballs  bugs  ugly  ignorant  fool  corchia  say  father  italian  nationality  uh  copyright  holder  n't  hitler  case  anyone  took  comment  seriously  think  placing  win  cork  one  's  ass  effective  way  dealing  crohns  fascinating  yet  bizarre  theres  fucking  wiki  insane  person  wikibreak||  november  hi  hey  wanted  say  hi  fellow  gay  man  west  virgnia  lol  kidding  offense  dick  dick  attitude  n't  like  fucking  attitude  first  come  across  uploading  picture  used  report  ca  n't  even  say  sorry  're  fucking  loser  someone  else  took  care  one  regarding  homosexual  clearly  homosexual  think  leave  normal  society  go  live  sewer  homosexuals  clearly  normal  persist  reporting  abusing  insert  large  garden  gnome  stay  dublin  airport  's  territory  say  delta  serve  orlando  dublin  n't  send  fucking  patronising  messages  fucking  freak  pictoral  brown  eyes  jealous  's  brown-eyed  girl  remember  good  times  ip  hopping  around  chicago  miss  remember  naturally  brown  eyes  attractive  brown  eyes  blue  eyes  brown  're  full  shit  doubt  use  tone  editors  violate  blp  others  's  disgusting  offense  imagine  tone  probably  changes  discussions  jerk  jolly  big  penis  mention  species  thriving  regular  commercial  flights  albeit  small  planes  combining  'official  requests  clemency  section  'calls  release  section  still  needs  tidying  possibly  re-ordering  signed  forgot  sign  ya  go  fucker  ca  n't  edit  eat  shit  ditmas  junior  high  school  james  hunt  speech  therapist  show  video  blog  post  even  calls  blog  ok  queer  ..  power  fuck  acting  like  grow  fucking  stupid  shit  head  cock  eating  bastard  ..  seriously  get  life  're  yo  piece  shit  biggest  dumbest  idiot  ever  met  online  second  rhobite  means  absolution  minor  actors  actresses  harry  potter  :  my  thinking  document  changing  portrayals  like  freedom  included  think  ☏  jun  utc  dick  merrill  think  great  dick  merrill  one  old  heads  retired  around  miami  back  fine  guy  faggot  whereas  east  asians  came  east  africa  fuck  bitches  still  n't  explain  removed  source  lies  fucking  lies  may  rot  hell  lies  blasphemies  hindu  rajputs  intermarry  sikh  rajputs  say  cuntbag  cuntbag  cuntbag  cuntbag  cuntbag  cuntbag  cuntbag  cuntbag  cuntbag  cuntbag  cuntbag  cuntbag  cuntbag  cuntbag  cuntbag  cuntbag  cuntbag  cuntbag  cuntbag  cuntbag  cuntbag  cuntbag  cuntbag  cuntbag  cuntbag  cuntbag  cuntbag  cuntbag  cuntbag  cuntbag  cuntbag  cuntbag  cuntbag  cuntbag  cuntbag  cuntbag  cuntbag  cuntbag  cuntbag  cuntbag  cuntbag  cuntbag  cuntbag  cuntbag  cuntbag  cuntbag  cuntbag  cuntbag  cuntbag  cuntbag  cuntbag  cuntbag  cuntbag  cuntbag  cuntbag  cuntbag  cuntbag  cuntbag  cuntbag  cuntbag  cuntbag  cuntbag  cuntbag  cuntbag  cuntbag  cuntbag  cuntbag  cuntbag  cuntbag  cuntbag  cuntbag  cuntbag  cuntbag  cuntbag  cuntbag  cuntbag  cuntbag  cuntbag  cuntbag  cuntbag  cuntbag  cuntbag  cuntbag  cuntbag  cuntbag  cuntbag  cuntbag  cuntbag  cuntbag  cuntbag  cuntbag  cuntbag  cuntbag  cuntbag  cuntbag  cuntbag  cuntbag  cuntbag  cuntbag  cuntbag  cuntbag  cuntbag  cuntbag  cuntbag  cuntbag  cuntbag  cuntbag  cuntbag  cuntbag  cuntbag  cuntbag  cuntbag  cuntbag  cuntbag  cuntbag  cuntbag  cuntbag  cuntbag  cuntbag  cuntbag  cuntbag  cuntbag  cuntbag  cuntbag  cuntbag  cuntbag  seen  source  gwern  used  ran  across  sites  like  would  inappropriate  use  source  people  philippines  unbelievably  stupid  shit  hole  get  life  u  anti-irish  prude  writin  fone  bother  typin  nxt  3  days  business  trip  urs  insincerely  edit  cynthia  voigt  feel  reported  wrongly  want  discuss  please  post  messages  company  include  comcast  something  like  review  movie  theron  martin  jun  th  gay  propaganda  gay  propaganda  forbidden  yuji  takasaki  steven  f.  loy  hans  w.  juergens  “  ethnic  differences  relationship  bioelectrical  impedance  body  size  ”  journal  physiological  anthropology  applied  human  science  vol  christmas  family  's  come  together  celebrate  jesus  's  birthday  ..  called  christmas  idea  ask  say  fuck  ..  's  also  jews  ..  need  holidays  wear  everyone  celebrate  together  ..  wan  na  celebrate  jesus  go  fuckin  church  ..  fell  ..  donate  're  feelings  www.donate_feelings.com  'll  watch  movie  soon  write  reminder  dropped  prefer  anonymous  reloaded  asked  question  answered  politely  ins  vishal  displacing  tons  reportedly  produces  mw  power  supercarrier  memorable  events  records  kerry  wood  strikeout  game  go  course  dummy  look  politics  horrible  monster  're  supposed  forget  8  million  people  africa  hiv  p  guess  gay  right  delete  fucking  section  mean  really  anonymous  prick  move  iran  oppose  disambig  year  film  first  released  matter  was  .  dick  laurent  dead  created  big  much  information  released  game  improved  information  provided  p.s  sometimes  spell  right  instead  write  still  say  re-added  simon  mills  pretty  gay  regularly  takes  anus  years  ago  sphinx  better  form  described  accurately  yo  n't  vandalizing  yep  n't  stop  talking  crap  oneoneoneone  nightstallions  wife  got  fucked  nigger  baby  smelled  fried  chicken  pompous  abusing  little  authority  enjoy  sex  official  club  list  suitable  truth  let  post  half  stuff  type  seems  lived  life  like  candle  wind  think  british  occupation  zones  namely  allied  occupation  zones  germany  bizone  perfectly  fit  category  created  british  occupations  personal  attacks  conservatives  okay  plenty  question  hi  noticed  liberal  bias  thats  ok  dont  shameless  shill  enforce  double  standards  join  media  matters  feel  home  :  i  think  sentence  currently  exists  fair  accurate  former  radical  activist  bill  ayers  hosted  fundraiser  obama  joined  board  association  would  later  draw  scrutiny  obama  's  presidential  campaign  reference  ayers  wikilinked  anybody  wanting  know  research  leisure  draw  conclusions  encylopedia  help  people  draw  conclusions  push  particular  opinion  .  onorem  nazi  faggot  never  said  n't  allowed  blank  reason  desperate  attempt  sermon  merely  stated  's  cute  n't  blame  troll  vandal  repeatedly  blocked  sanctioned  'd  imagine  'd  want  record  ignorance  hidden  edit  edward  guiliano  'll  report  vandal  boston  globe  made  huge  story  guy  baseball  magazines  speedy  deletion  crazyness  stop  now  .  jeske  couriano  suck.grawp  dallas  vandalism  rain  man  one  disagree  's  within  next  dat  think  arlen  portion  either  removed  cut  significantly  worded  better  see  threat  litigation  alleged  blocking  administrator  erred  assessment  course  's  brand  're  simple  roman  numerals  ridiculous  ♣  chat  wit  §  contributions  ♣  hey  guess  's  whole  new  range  still  thousands  socks  feel  less  lazy  get  auto  confirmed  good  work  tag  accusations  paedophilia  hahahahahahahahahahahahaahhahahahahaahhahahahahahahaha  yes  agree  editors  stupid  stubborn  administrators  wo  n't  let  allow  ask  correct  blame  stiki  actually  palestine  bc  though  hurts  feelings  yeah  forgot  symbol  anyhow  since  'm  removing  stuff  mentioning  's  fixed  b.a  communication  studies  b.s  computer  information  systems  b.s  computer  science  b.s  criminal  justice  b.a  dance  b.a  english  b.s  environmental  science/studies  b.s  exercise  sport  science  b.a  history  b.a  humanities  b.a  international  studies  b.s  legal  studies  b.s  marine  biology  b.a  music  b.s  paralegal  studies  b.s  psychology  b.a  sociology  b.a  theatre  fuck  fuck  matter  raised  wt  football  snowman  status  quo  obama  material  excluded  discussion  year  common  sense  consensus  found  inclusion  even  less  significant  play  full  shit  unblock  like  .  signature  u  guys  fucking  morrons\""
      ]
     },
     "execution_count": 42,
     "metadata": {},
     "output_type": "execute_result"
    }
   ],
   "source": [
    "from wordcloud import WordCloud\n",
    "import matplotlib.pyplot as plt\n",
    "%matplotlib inline\n",
    "\n",
    "\n",
    "#Text=Text.split(\", \")\n",
    "#def unique_list(l):\n",
    "   # ulist = []\n",
    "   # [ulist.append(x) for x in l if x not in ulist]\n",
    "    #return ulist\n",
    "\n",
    "#Text=(unique_list(term_list2))\n",
    "Text='  '.join(term_list2)\n",
    "Text"
   ]
  },
  {
   "cell_type": "code",
   "execution_count": 43,
   "metadata": {},
   "outputs": [
    {
     "data": {
      "image/png": "[encoded data removed]",
      "text/plain": [
       "<Figure size 720x720 with 1 Axes>"
      ]
     },
     "metadata": {
      "needs_background": "light"
     },
     "output_type": "display_data"
    }
   ],
   "source": [
    "title = 'Most prominen terms in Toxics comments'\n",
    "wordcloud = WordCloud(\n",
    "    background_color='white',\n",
    "    stopwords=None,\n",
    "    max_words=50,\n",
    "    max_font_size=40, \n",
    "    scale=3,\n",
    "    random_state=1 \n",
    ").generate(Text)\n",
    "fig = plt.figure(1, figsize=(10, 10))\n",
    "plt.axis('off')\n",
    "if title: \n",
    "    fig.suptitle(title, fontsize=20)\n",
    "    fig.subplots_adjust(top=2.3)\n",
    "plt.imshow(wordcloud);"
   ]
  },
  {
   "cell_type": "code",
   "execution_count": 44,
   "metadata": {},
   "outputs": [
    {
     "data": {
      "text/plain": [
       "[('gay', 222),\n",
       " ('jim', 157),\n",
       " ('wales', 156),\n",
       " ('die', 156),\n",
       " (\"'re\", 126),\n",
       " ('cuntbag', 126),\n",
       " ('bastard', 110),\n",
       " ('pro-assad.hanibalyou', 106),\n",
       " (\"'s\", 33),\n",
       " (\"n't\", 29),\n",
       " ('fucking', 19),\n",
       " ('like', 17),\n",
       " ('think', 17),\n",
       " ('fuck', 15),\n",
       " ('..', 13)]"
      ]
     },
     "execution_count": 44,
     "metadata": {},
     "output_type": "execute_result"
    }
   ],
   "source": [
    "count2 = Counter(term_list2)\n",
    "Top15_toxic_word=count2.most_common(15)\n",
    "Top15_toxic_word"
   ]
  },
  {
   "cell_type": "code",
   "execution_count": null,
   "metadata": {},
   "outputs": [],
   "source": []
  },
  {
   "cell_type": "code",
   "execution_count": null,
   "metadata": {},
   "outputs": [],
   "source": [
    "\n"
   ]
  },
  {
   "cell_type": "code",
   "execution_count": null,
   "metadata": {},
   "outputs": [],
   "source": []
  }
 ],
 "metadata": {
  "kernelspec": {
   "display_name": "Python 3 (ipykernel)",
   "language": "python",
   "name": "python3"
  },
  "language_info": {
   "codemirror_mode": {
    "name": "ipython",
    "version": 3
   },
   "file_extension": ".py",
   "mimetype": "text/x-python",
   "name": "python",
   "nbconvert_exporter": "python",
   "pygments_lexer": "ipython3",
   "version": "3.9.7"
  }
 },
 "nbformat": 4,
 "nbformat_minor": 4
}
